{
 "cells": [
  {
   "cell_type": "code",
   "execution_count": 1,
   "metadata": {},
   "outputs": [],
   "source": [
    "%load_ext autoreload\n",
    "%autoreload 2"
   ]
  },
  {
   "cell_type": "code",
   "execution_count": 2,
   "metadata": {},
   "outputs": [],
   "source": [
    "MONTHS = [6,7,8,9]\n",
    "SPECIES = ['CULEX PIPIENS', 'CULEX PIPIENS/RESTUANS', 'CULEX RESTUANS'] \n",
    "TRAPS = []"
   ]
  },
  {
   "cell_type": "code",
   "execution_count": 3,
   "metadata": {},
   "outputs": [],
   "source": [
    "import pandas as pd\n",
    "\n",
    "\n",
    "train_df = pd.read_csv('../data/raw/train.csv')\n",
    "weather_df = pd.read_csv('../data/raw/weather.csv')"
   ]
  },
  {
   "cell_type": "code",
   "execution_count": 4,
   "metadata": {},
   "outputs": [],
   "source": [
    "from src.data import clean_weather\n",
    "\n",
    "weather_df = clean_weather(weather_df)"
   ]
  },
  {
   "cell_type": "code",
   "execution_count": 5,
   "metadata": {},
   "outputs": [],
   "source": [
    "from src.data import remove_address, split_date\n",
    "\n",
    "train_df = remove_address(split_date(train_df))"
   ]
  },
  {
   "cell_type": "code",
   "execution_count": 6,
   "metadata": {},
   "outputs": [],
   "source": [
    "train_df = train_df[train_df.Month.isin(MONTHS)]\n",
    "train_df = train_df[train_df.Species.isin(SPECIES)]"
   ]
  },
  {
   "cell_type": "code",
   "execution_count": 7,
   "metadata": {},
   "outputs": [],
   "source": [
    "trap_max_mos = train_df.groupby(['Date', 'Trap'])['NumMosquitos'].sum().reset_index().groupby(['Trap'])['NumMosquitos'].max()\n",
    "\n",
    "trap_prob = train_df.groupby(['Date', 'Trap'])['WnvPresent'].max().reset_index().groupby(['Trap'])['WnvPresent'].mean()"
   ]
  },
  {
   "cell_type": "code",
   "execution_count": 8,
   "metadata": {},
   "outputs": [
    {
     "data": {
      "text/plain": [
       "np.float64(0.4243543847666627)"
      ]
     },
     "execution_count": 8,
     "metadata": {},
     "output_type": "execute_result"
    }
   ],
   "source": [
    "import numpy as np\n",
    "\n",
    "\n",
    "trap_max_mos.corr(trap_prob)"
   ]
  },
  {
   "cell_type": "code",
   "execution_count": 9,
   "metadata": {},
   "outputs": [
    {
     "data": {
      "text/html": [
       "<div>\n",
       "<style scoped>\n",
       "    .dataframe tbody tr th:only-of-type {\n",
       "        vertical-align: middle;\n",
       "    }\n",
       "\n",
       "    .dataframe tbody tr th {\n",
       "        vertical-align: top;\n",
       "    }\n",
       "\n",
       "    .dataframe thead th {\n",
       "        text-align: right;\n",
       "    }\n",
       "</style>\n",
       "<table border=\"1\" class=\"dataframe\">\n",
       "  <thead>\n",
       "    <tr style=\"text-align: right;\">\n",
       "      <th></th>\n",
       "      <th>Date</th>\n",
       "      <th>Trap</th>\n",
       "      <th>Species</th>\n",
       "      <th>RowCount</th>\n",
       "      <th>NumMosquitos</th>\n",
       "      <th>WnvPresent</th>\n",
       "    </tr>\n",
       "  </thead>\n",
       "  <tbody>\n",
       "    <tr>\n",
       "      <th>0</th>\n",
       "      <td>2007-06-05</td>\n",
       "      <td>T002</td>\n",
       "      <td>CULEX PIPIENS</td>\n",
       "      <td>1</td>\n",
       "      <td>1</td>\n",
       "      <td>0</td>\n",
       "    </tr>\n",
       "    <tr>\n",
       "      <th>1</th>\n",
       "      <td>2007-06-05</td>\n",
       "      <td>T002</td>\n",
       "      <td>CULEX PIPIENS/RESTUANS</td>\n",
       "      <td>1</td>\n",
       "      <td>3</td>\n",
       "      <td>0</td>\n",
       "    </tr>\n",
       "    <tr>\n",
       "      <th>2</th>\n",
       "      <td>2007-06-05</td>\n",
       "      <td>T002</td>\n",
       "      <td>CULEX RESTUANS</td>\n",
       "      <td>1</td>\n",
       "      <td>5</td>\n",
       "      <td>0</td>\n",
       "    </tr>\n",
       "    <tr>\n",
       "      <th>3</th>\n",
       "      <td>2007-06-05</td>\n",
       "      <td>T009</td>\n",
       "      <td>CULEX RESTUANS</td>\n",
       "      <td>1</td>\n",
       "      <td>2</td>\n",
       "      <td>0</td>\n",
       "    </tr>\n",
       "    <tr>\n",
       "      <th>4</th>\n",
       "      <td>2007-06-05</td>\n",
       "      <td>T011</td>\n",
       "      <td>CULEX RESTUANS</td>\n",
       "      <td>1</td>\n",
       "      <td>1</td>\n",
       "      <td>0</td>\n",
       "    </tr>\n",
       "    <tr>\n",
       "      <th>...</th>\n",
       "      <td>...</td>\n",
       "      <td>...</td>\n",
       "      <td>...</td>\n",
       "      <td>...</td>\n",
       "      <td>...</td>\n",
       "      <td>...</td>\n",
       "    </tr>\n",
       "    <tr>\n",
       "      <th>7832</th>\n",
       "      <td>2013-09-26</td>\n",
       "      <td>T232</td>\n",
       "      <td>CULEX PIPIENS/RESTUANS</td>\n",
       "      <td>1</td>\n",
       "      <td>1</td>\n",
       "      <td>0</td>\n",
       "    </tr>\n",
       "    <tr>\n",
       "      <th>7833</th>\n",
       "      <td>2013-09-26</td>\n",
       "      <td>T233</td>\n",
       "      <td>CULEX PIPIENS/RESTUANS</td>\n",
       "      <td>1</td>\n",
       "      <td>5</td>\n",
       "      <td>0</td>\n",
       "    </tr>\n",
       "    <tr>\n",
       "      <th>7834</th>\n",
       "      <td>2013-09-26</td>\n",
       "      <td>T235</td>\n",
       "      <td>CULEX PIPIENS/RESTUANS</td>\n",
       "      <td>1</td>\n",
       "      <td>1</td>\n",
       "      <td>0</td>\n",
       "    </tr>\n",
       "    <tr>\n",
       "      <th>7835</th>\n",
       "      <td>2013-09-26</td>\n",
       "      <td>T900</td>\n",
       "      <td>CULEX PIPIENS</td>\n",
       "      <td>4</td>\n",
       "      <td>37</td>\n",
       "      <td>0</td>\n",
       "    </tr>\n",
       "    <tr>\n",
       "      <th>7836</th>\n",
       "      <td>2013-09-26</td>\n",
       "      <td>T900</td>\n",
       "      <td>CULEX PIPIENS/RESTUANS</td>\n",
       "      <td>2</td>\n",
       "      <td>43</td>\n",
       "      <td>1</td>\n",
       "    </tr>\n",
       "  </tbody>\n",
       "</table>\n",
       "<p>7837 rows × 6 columns</p>\n",
       "</div>"
      ],
      "text/plain": [
       "           Date  Trap                 Species  RowCount  NumMosquitos  \\\n",
       "0    2007-06-05  T002           CULEX PIPIENS         1             1   \n",
       "1    2007-06-05  T002  CULEX PIPIENS/RESTUANS         1             3   \n",
       "2    2007-06-05  T002          CULEX RESTUANS         1             5   \n",
       "3    2007-06-05  T009          CULEX RESTUANS         1             2   \n",
       "4    2007-06-05  T011          CULEX RESTUANS         1             1   \n",
       "...         ...   ...                     ...       ...           ...   \n",
       "7832 2013-09-26  T232  CULEX PIPIENS/RESTUANS         1             1   \n",
       "7833 2013-09-26  T233  CULEX PIPIENS/RESTUANS         1             5   \n",
       "7834 2013-09-26  T235  CULEX PIPIENS/RESTUANS         1             1   \n",
       "7835 2013-09-26  T900           CULEX PIPIENS         4            37   \n",
       "7836 2013-09-26  T900  CULEX PIPIENS/RESTUANS         2            43   \n",
       "\n",
       "      WnvPresent  \n",
       "0              0  \n",
       "1              0  \n",
       "2              0  \n",
       "3              0  \n",
       "4              0  \n",
       "...          ...  \n",
       "7832           0  \n",
       "7833           0  \n",
       "7834           0  \n",
       "7835           0  \n",
       "7836           1  \n",
       "\n",
       "[7837 rows x 6 columns]"
      ]
     },
     "execution_count": 9,
     "metadata": {},
     "output_type": "execute_result"
    }
   ],
   "source": [
    "single_row = train_df.groupby(\n",
    "    ['Date', 'Trap', 'Species']\n",
    ").agg(\n",
    "    RowCount=('NumMosquitos', 'count'),\n",
    "    NumMosquitos=('NumMosquitos', 'sum'),\n",
    "    WnvPresent=('WnvPresent', 'max')\n",
    ").reset_index()\n",
    "\n",
    "single_row"
   ]
  },
  {
   "cell_type": "code",
   "execution_count": 10,
   "metadata": {},
   "outputs": [
    {
     "data": {
      "text/plain": [
       "np.float64(0.058057930330483606)"
      ]
     },
     "execution_count": 10,
     "metadata": {},
     "output_type": "execute_result"
    }
   ],
   "source": [
    "single_row.WnvPresent.mean()"
   ]
  },
  {
   "cell_type": "code",
   "execution_count": 11,
   "metadata": {},
   "outputs": [
    {
     "data": {
      "text/plain": [
       "np.int64(51)"
      ]
     },
     "execution_count": 11,
     "metadata": {},
     "output_type": "execute_result"
    }
   ],
   "source": [
    "single_row.RowCount.max()"
   ]
  },
  {
   "cell_type": "code",
   "execution_count": 12,
   "metadata": {},
   "outputs": [
    {
     "data": {
      "text/plain": [
       "np.int64(2532)"
      ]
     },
     "execution_count": 12,
     "metadata": {},
     "output_type": "execute_result"
    }
   ],
   "source": [
    "single_row.NumMosquitos.max()"
   ]
  },
  {
   "cell_type": "code",
   "execution_count": 13,
   "metadata": {},
   "outputs": [
    {
     "data": {
      "text/html": [
       "<div>\n",
       "<style scoped>\n",
       "    .dataframe tbody tr th:only-of-type {\n",
       "        vertical-align: middle;\n",
       "    }\n",
       "\n",
       "    .dataframe tbody tr th {\n",
       "        vertical-align: top;\n",
       "    }\n",
       "\n",
       "    .dataframe thead th {\n",
       "        text-align: right;\n",
       "    }\n",
       "</style>\n",
       "<table border=\"1\" class=\"dataframe\">\n",
       "  <thead>\n",
       "    <tr style=\"text-align: right;\">\n",
       "      <th></th>\n",
       "      <th>RowCount</th>\n",
       "      <th>NumMosquitos</th>\n",
       "    </tr>\n",
       "  </thead>\n",
       "  <tbody>\n",
       "    <tr>\n",
       "      <th>RowCount</th>\n",
       "      <td>1.000000</td>\n",
       "      <td>0.962729</td>\n",
       "    </tr>\n",
       "    <tr>\n",
       "      <th>NumMosquitos</th>\n",
       "      <td>0.962729</td>\n",
       "      <td>1.000000</td>\n",
       "    </tr>\n",
       "  </tbody>\n",
       "</table>\n",
       "</div>"
      ],
      "text/plain": [
       "              RowCount  NumMosquitos\n",
       "RowCount      1.000000      0.962729\n",
       "NumMosquitos  0.962729      1.000000"
      ]
     },
     "execution_count": 13,
     "metadata": {},
     "output_type": "execute_result"
    }
   ],
   "source": [
    "single_row[['RowCount', 'NumMosquitos']].corr()"
   ]
  },
  {
   "cell_type": "code",
   "execution_count": 66,
   "metadata": {},
   "outputs": [
    {
     "data": {
      "text/plain": [
       "Index(['Date', 'Species', 'Trap', 'Latitude', 'Longitude', 'NumMosquitos',\n",
       "       'WnvPresent', 'Month', 'Year', 'Week', 'Dayofyear', 'Dayofweek'],\n",
       "      dtype='object')"
      ]
     },
     "execution_count": 66,
     "metadata": {},
     "output_type": "execute_result"
    }
   ],
   "source": [
    "train_df.columns"
   ]
  },
  {
   "cell_type": "code",
   "execution_count": 17,
   "metadata": {},
   "outputs": [
    {
     "data": {
      "text/plain": [
       "Index(['Date', 'Trap', 'Species', 'RowCount', 'NumMosquitos', 'WnvPresent'], dtype='object')"
      ]
     },
     "execution_count": 17,
     "metadata": {},
     "output_type": "execute_result"
    }
   ],
   "source": [
    "single_row.columns"
   ]
  },
  {
   "cell_type": "code",
   "execution_count": 24,
   "metadata": {},
   "outputs": [],
   "source": [
    "train_df = single_row.merge(\n",
    "    train_df[\n",
    "        ['Date', 'Species', 'Trap', 'Latitude', 'Longitude', 'Month', 'Year', 'Week', 'Dayofyear', 'Dayofweek']\n",
    "    ].drop_duplicates(),\n",
    "    on=['Date', 'Species', 'Trap'],\n",
    "    how='left'\n",
    ")"
   ]
  },
  {
   "cell_type": "code",
   "execution_count": 26,
   "metadata": {},
   "outputs": [
    {
     "data": {
      "text/html": [
       "<div>\n",
       "<style scoped>\n",
       "    .dataframe tbody tr th:only-of-type {\n",
       "        vertical-align: middle;\n",
       "    }\n",
       "\n",
       "    .dataframe tbody tr th {\n",
       "        vertical-align: top;\n",
       "    }\n",
       "\n",
       "    .dataframe thead th {\n",
       "        text-align: right;\n",
       "    }\n",
       "</style>\n",
       "<table border=\"1\" class=\"dataframe\">\n",
       "  <thead>\n",
       "    <tr style=\"text-align: right;\">\n",
       "      <th></th>\n",
       "      <th>Date</th>\n",
       "      <th>Trap</th>\n",
       "      <th>Species</th>\n",
       "      <th>RowCount</th>\n",
       "      <th>NumMosquitos</th>\n",
       "      <th>WnvPresent</th>\n",
       "      <th>Latitude</th>\n",
       "      <th>Longitude</th>\n",
       "      <th>Month</th>\n",
       "      <th>Year</th>\n",
       "      <th>Week</th>\n",
       "      <th>Dayofyear</th>\n",
       "      <th>Dayofweek</th>\n",
       "    </tr>\n",
       "  </thead>\n",
       "  <tbody>\n",
       "    <tr>\n",
       "      <th>0</th>\n",
       "      <td>2007-06-05</td>\n",
       "      <td>T002</td>\n",
       "      <td>CULEX PIPIENS</td>\n",
       "      <td>1</td>\n",
       "      <td>1</td>\n",
       "      <td>0</td>\n",
       "      <td>41.954690</td>\n",
       "      <td>-87.800991</td>\n",
       "      <td>6</td>\n",
       "      <td>2007</td>\n",
       "      <td>23</td>\n",
       "      <td>156</td>\n",
       "      <td>1</td>\n",
       "    </tr>\n",
       "    <tr>\n",
       "      <th>1</th>\n",
       "      <td>2007-06-05</td>\n",
       "      <td>T002</td>\n",
       "      <td>CULEX PIPIENS/RESTUANS</td>\n",
       "      <td>1</td>\n",
       "      <td>3</td>\n",
       "      <td>0</td>\n",
       "      <td>41.954690</td>\n",
       "      <td>-87.800991</td>\n",
       "      <td>6</td>\n",
       "      <td>2007</td>\n",
       "      <td>23</td>\n",
       "      <td>156</td>\n",
       "      <td>1</td>\n",
       "    </tr>\n",
       "    <tr>\n",
       "      <th>2</th>\n",
       "      <td>2007-06-05</td>\n",
       "      <td>T002</td>\n",
       "      <td>CULEX RESTUANS</td>\n",
       "      <td>1</td>\n",
       "      <td>5</td>\n",
       "      <td>0</td>\n",
       "      <td>41.954690</td>\n",
       "      <td>-87.800991</td>\n",
       "      <td>6</td>\n",
       "      <td>2007</td>\n",
       "      <td>23</td>\n",
       "      <td>156</td>\n",
       "      <td>1</td>\n",
       "    </tr>\n",
       "    <tr>\n",
       "      <th>3</th>\n",
       "      <td>2007-06-05</td>\n",
       "      <td>T009</td>\n",
       "      <td>CULEX RESTUANS</td>\n",
       "      <td>1</td>\n",
       "      <td>2</td>\n",
       "      <td>0</td>\n",
       "      <td>41.981964</td>\n",
       "      <td>-87.812827</td>\n",
       "      <td>6</td>\n",
       "      <td>2007</td>\n",
       "      <td>23</td>\n",
       "      <td>156</td>\n",
       "      <td>1</td>\n",
       "    </tr>\n",
       "    <tr>\n",
       "      <th>4</th>\n",
       "      <td>2007-06-05</td>\n",
       "      <td>T011</td>\n",
       "      <td>CULEX RESTUANS</td>\n",
       "      <td>1</td>\n",
       "      <td>1</td>\n",
       "      <td>0</td>\n",
       "      <td>41.944869</td>\n",
       "      <td>-87.832763</td>\n",
       "      <td>6</td>\n",
       "      <td>2007</td>\n",
       "      <td>23</td>\n",
       "      <td>156</td>\n",
       "      <td>1</td>\n",
       "    </tr>\n",
       "    <tr>\n",
       "      <th>...</th>\n",
       "      <td>...</td>\n",
       "      <td>...</td>\n",
       "      <td>...</td>\n",
       "      <td>...</td>\n",
       "      <td>...</td>\n",
       "      <td>...</td>\n",
       "      <td>...</td>\n",
       "      <td>...</td>\n",
       "      <td>...</td>\n",
       "      <td>...</td>\n",
       "      <td>...</td>\n",
       "      <td>...</td>\n",
       "      <td>...</td>\n",
       "    </tr>\n",
       "    <tr>\n",
       "      <th>7832</th>\n",
       "      <td>2013-09-26</td>\n",
       "      <td>T232</td>\n",
       "      <td>CULEX PIPIENS/RESTUANS</td>\n",
       "      <td>1</td>\n",
       "      <td>1</td>\n",
       "      <td>0</td>\n",
       "      <td>41.912563</td>\n",
       "      <td>-87.668055</td>\n",
       "      <td>9</td>\n",
       "      <td>2013</td>\n",
       "      <td>39</td>\n",
       "      <td>269</td>\n",
       "      <td>3</td>\n",
       "    </tr>\n",
       "    <tr>\n",
       "      <th>7833</th>\n",
       "      <td>2013-09-26</td>\n",
       "      <td>T233</td>\n",
       "      <td>CULEX PIPIENS/RESTUANS</td>\n",
       "      <td>1</td>\n",
       "      <td>5</td>\n",
       "      <td>0</td>\n",
       "      <td>42.009876</td>\n",
       "      <td>-87.807277</td>\n",
       "      <td>9</td>\n",
       "      <td>2013</td>\n",
       "      <td>39</td>\n",
       "      <td>269</td>\n",
       "      <td>3</td>\n",
       "    </tr>\n",
       "    <tr>\n",
       "      <th>7834</th>\n",
       "      <td>2013-09-26</td>\n",
       "      <td>T235</td>\n",
       "      <td>CULEX PIPIENS/RESTUANS</td>\n",
       "      <td>1</td>\n",
       "      <td>1</td>\n",
       "      <td>0</td>\n",
       "      <td>41.776428</td>\n",
       "      <td>-87.627096</td>\n",
       "      <td>9</td>\n",
       "      <td>2013</td>\n",
       "      <td>39</td>\n",
       "      <td>269</td>\n",
       "      <td>3</td>\n",
       "    </tr>\n",
       "    <tr>\n",
       "      <th>7835</th>\n",
       "      <td>2013-09-26</td>\n",
       "      <td>T900</td>\n",
       "      <td>CULEX PIPIENS</td>\n",
       "      <td>4</td>\n",
       "      <td>37</td>\n",
       "      <td>0</td>\n",
       "      <td>41.974689</td>\n",
       "      <td>-87.890615</td>\n",
       "      <td>9</td>\n",
       "      <td>2013</td>\n",
       "      <td>39</td>\n",
       "      <td>269</td>\n",
       "      <td>3</td>\n",
       "    </tr>\n",
       "    <tr>\n",
       "      <th>7836</th>\n",
       "      <td>2013-09-26</td>\n",
       "      <td>T900</td>\n",
       "      <td>CULEX PIPIENS/RESTUANS</td>\n",
       "      <td>2</td>\n",
       "      <td>43</td>\n",
       "      <td>1</td>\n",
       "      <td>41.974689</td>\n",
       "      <td>-87.890615</td>\n",
       "      <td>9</td>\n",
       "      <td>2013</td>\n",
       "      <td>39</td>\n",
       "      <td>269</td>\n",
       "      <td>3</td>\n",
       "    </tr>\n",
       "  </tbody>\n",
       "</table>\n",
       "<p>7837 rows × 13 columns</p>\n",
       "</div>"
      ],
      "text/plain": [
       "           Date  Trap                 Species  RowCount  NumMosquitos  \\\n",
       "0    2007-06-05  T002           CULEX PIPIENS         1             1   \n",
       "1    2007-06-05  T002  CULEX PIPIENS/RESTUANS         1             3   \n",
       "2    2007-06-05  T002          CULEX RESTUANS         1             5   \n",
       "3    2007-06-05  T009          CULEX RESTUANS         1             2   \n",
       "4    2007-06-05  T011          CULEX RESTUANS         1             1   \n",
       "...         ...   ...                     ...       ...           ...   \n",
       "7832 2013-09-26  T232  CULEX PIPIENS/RESTUANS         1             1   \n",
       "7833 2013-09-26  T233  CULEX PIPIENS/RESTUANS         1             5   \n",
       "7834 2013-09-26  T235  CULEX PIPIENS/RESTUANS         1             1   \n",
       "7835 2013-09-26  T900           CULEX PIPIENS         4            37   \n",
       "7836 2013-09-26  T900  CULEX PIPIENS/RESTUANS         2            43   \n",
       "\n",
       "      WnvPresent   Latitude  Longitude  Month  Year  Week  Dayofyear  \\\n",
       "0              0  41.954690 -87.800991      6  2007    23        156   \n",
       "1              0  41.954690 -87.800991      6  2007    23        156   \n",
       "2              0  41.954690 -87.800991      6  2007    23        156   \n",
       "3              0  41.981964 -87.812827      6  2007    23        156   \n",
       "4              0  41.944869 -87.832763      6  2007    23        156   \n",
       "...          ...        ...        ...    ...   ...   ...        ...   \n",
       "7832           0  41.912563 -87.668055      9  2013    39        269   \n",
       "7833           0  42.009876 -87.807277      9  2013    39        269   \n",
       "7834           0  41.776428 -87.627096      9  2013    39        269   \n",
       "7835           0  41.974689 -87.890615      9  2013    39        269   \n",
       "7836           1  41.974689 -87.890615      9  2013    39        269   \n",
       "\n",
       "      Dayofweek  \n",
       "0             1  \n",
       "1             1  \n",
       "2             1  \n",
       "3             1  \n",
       "4             1  \n",
       "...         ...  \n",
       "7832          3  \n",
       "7833          3  \n",
       "7834          3  \n",
       "7835          3  \n",
       "7836          3  \n",
       "\n",
       "[7837 rows x 13 columns]"
      ]
     },
     "execution_count": 26,
     "metadata": {},
     "output_type": "execute_result"
    }
   ],
   "source": [
    "train_df"
   ]
  }
 ],
 "metadata": {
  "kernelspec": {
   "display_name": ".venv",
   "language": "python",
   "name": "python3"
  },
  "language_info": {
   "codemirror_mode": {
    "name": "ipython",
    "version": 3
   },
   "file_extension": ".py",
   "mimetype": "text/x-python",
   "name": "python",
   "nbconvert_exporter": "python",
   "pygments_lexer": "ipython3",
   "version": "3.10.12"
  }
 },
 "nbformat": 4,
 "nbformat_minor": 2
}
