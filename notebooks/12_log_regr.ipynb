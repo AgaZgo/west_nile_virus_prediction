{
 "cells": [
  {
   "cell_type": "code",
   "execution_count": 1,
   "metadata": {},
   "outputs": [],
   "source": [
    "%load_ext autoreload\n",
    "%autoreload 2"
   ]
  },
  {
   "cell_type": "code",
   "execution_count": 2,
   "metadata": {},
   "outputs": [],
   "source": [
    "MONTHS = [6,7,8,9]\n",
    "SPECIES = ['CULEX PIPIENS', 'CULEX PIPIENS/RESTUANS', 'CULEX RESTUANS'] \n",
    "TRAPS = []\n",
    "MAX_CATCH_DATE = False"
   ]
  },
  {
   "cell_type": "code",
   "execution_count": 3,
   "metadata": {},
   "outputs": [],
   "source": [
    "import pandas as pd\n",
    "\n",
    "\n",
    "train_df = pd.read_csv('../data/raw/train.csv')\n",
    "test_df = pd.read_csv('../data/raw/test.csv')\n",
    "weather_df = pd.read_csv('../data/raw/weather.csv')"
   ]
  },
  {
   "cell_type": "code",
   "execution_count": 4,
   "metadata": {},
   "outputs": [],
   "source": [
    "from src.data import clean_weather\n",
    "\n",
    "weather_df = clean_weather(weather_df)"
   ]
  },
  {
   "cell_type": "code",
   "execution_count": 5,
   "metadata": {},
   "outputs": [],
   "source": [
    "from src.data import remove_address, split_date\n",
    "\n",
    "train_df = remove_address(split_date(train_df))\n",
    "test_df = remove_address(split_date(test_df))"
   ]
  },
  {
   "cell_type": "code",
   "execution_count": 6,
   "metadata": {},
   "outputs": [],
   "source": [
    "train_df = train_df[train_df.Month.isin(MONTHS)]\n",
    "train_df = train_df[train_df.Species.isin(SPECIES)]\n",
    "\n",
    "test_df = test_df[test_df.Month.isin(MONTHS)]\n",
    "test_df = test_df[test_df.Species.isin(SPECIES)]"
   ]
  },
  {
   "cell_type": "code",
   "execution_count": 4,
   "metadata": {},
   "outputs": [
    {
     "name": "stdout",
     "output_type": "stream",
     "text": [
      "[Pipeline]  (step 1 of 3) Processing functiontransformer-1, total=   0.0s\n",
      "[Pipeline]  (step 2 of 3) Processing monthspeciestraptransformer, total=   0.0s\n",
      "[Pipeline]  (step 3 of 3) Processing functiontransformer-2, total=   0.0s\n"
     ]
    }
   ],
   "source": [
    "# from src.data import preprocess_data\n",
    "\n",
    "# data = preprocess_data({'train': train_df, 'test': test_df, 'weather': weather_df})\n",
    "\n",
    "# train_df = data['train']\n",
    "# test_df = data['test']\n",
    "# weather_df = data['weather']"
   ]
  },
  {
   "cell_type": "code",
   "execution_count": 5,
   "metadata": {},
   "outputs": [],
   "source": [
    "trap_max_mos = train_df.groupby(['Date', 'Trap'])['NumMosquitos'].sum().reset_index().groupby(['Trap'])['NumMosquitos'].max()\n",
    "trap_wnv_proba = train_df.groupby(['Date', 'Trap'])['WnvPresent'].max().reset_index().groupby(['Trap'])['WnvPresent'].mean()"
   ]
  },
  {
   "cell_type": "code",
   "execution_count": 6,
   "metadata": {},
   "outputs": [
    {
     "data": {
      "text/plain": [
       "np.float64(0.4300605114998707)"
      ]
     },
     "execution_count": 6,
     "metadata": {},
     "output_type": "execute_result"
    }
   ],
   "source": [
    "import numpy as np\n",
    "\n",
    "\n",
    "trap_max_mos.corr(trap_wnv_proba)"
   ]
  },
  {
   "cell_type": "code",
   "execution_count": 7,
   "metadata": {},
   "outputs": [
    {
     "data": {
      "text/html": [
       "<div>\n",
       "<style scoped>\n",
       "    .dataframe tbody tr th:only-of-type {\n",
       "        vertical-align: middle;\n",
       "    }\n",
       "\n",
       "    .dataframe tbody tr th {\n",
       "        vertical-align: top;\n",
       "    }\n",
       "\n",
       "    .dataframe thead th {\n",
       "        text-align: right;\n",
       "    }\n",
       "</style>\n",
       "<table border=\"1\" class=\"dataframe\">\n",
       "  <thead>\n",
       "    <tr style=\"text-align: right;\">\n",
       "      <th></th>\n",
       "      <th>Date</th>\n",
       "      <th>Trap</th>\n",
       "      <th>Species</th>\n",
       "      <th>RowCount</th>\n",
       "      <th>NumMosquitos</th>\n",
       "      <th>WnvPresent</th>\n",
       "    </tr>\n",
       "  </thead>\n",
       "  <tbody>\n",
       "    <tr>\n",
       "      <th>0</th>\n",
       "      <td>2007-06-05</td>\n",
       "      <td>T002</td>\n",
       "      <td>CULEX PIPIENS</td>\n",
       "      <td>1</td>\n",
       "      <td>1</td>\n",
       "      <td>0</td>\n",
       "    </tr>\n",
       "    <tr>\n",
       "      <th>1</th>\n",
       "      <td>2007-06-05</td>\n",
       "      <td>T002</td>\n",
       "      <td>CULEX PIPIENS/RESTUANS</td>\n",
       "      <td>1</td>\n",
       "      <td>3</td>\n",
       "      <td>0</td>\n",
       "    </tr>\n",
       "    <tr>\n",
       "      <th>2</th>\n",
       "      <td>2007-06-05</td>\n",
       "      <td>T002</td>\n",
       "      <td>CULEX RESTUANS</td>\n",
       "      <td>1</td>\n",
       "      <td>5</td>\n",
       "      <td>0</td>\n",
       "    </tr>\n",
       "    <tr>\n",
       "      <th>3</th>\n",
       "      <td>2007-06-05</td>\n",
       "      <td>T009</td>\n",
       "      <td>CULEX RESTUANS</td>\n",
       "      <td>1</td>\n",
       "      <td>2</td>\n",
       "      <td>0</td>\n",
       "    </tr>\n",
       "    <tr>\n",
       "      <th>4</th>\n",
       "      <td>2007-06-05</td>\n",
       "      <td>T011</td>\n",
       "      <td>CULEX RESTUANS</td>\n",
       "      <td>1</td>\n",
       "      <td>1</td>\n",
       "      <td>0</td>\n",
       "    </tr>\n",
       "    <tr>\n",
       "      <th>...</th>\n",
       "      <td>...</td>\n",
       "      <td>...</td>\n",
       "      <td>...</td>\n",
       "      <td>...</td>\n",
       "      <td>...</td>\n",
       "      <td>...</td>\n",
       "    </tr>\n",
       "    <tr>\n",
       "      <th>8083</th>\n",
       "      <td>2013-09-26</td>\n",
       "      <td>T232</td>\n",
       "      <td>CULEX PIPIENS/RESTUANS</td>\n",
       "      <td>1</td>\n",
       "      <td>1</td>\n",
       "      <td>0</td>\n",
       "    </tr>\n",
       "    <tr>\n",
       "      <th>8084</th>\n",
       "      <td>2013-09-26</td>\n",
       "      <td>T233</td>\n",
       "      <td>CULEX PIPIENS/RESTUANS</td>\n",
       "      <td>1</td>\n",
       "      <td>5</td>\n",
       "      <td>0</td>\n",
       "    </tr>\n",
       "    <tr>\n",
       "      <th>8085</th>\n",
       "      <td>2013-09-26</td>\n",
       "      <td>T235</td>\n",
       "      <td>CULEX PIPIENS/RESTUANS</td>\n",
       "      <td>1</td>\n",
       "      <td>1</td>\n",
       "      <td>0</td>\n",
       "    </tr>\n",
       "    <tr>\n",
       "      <th>8086</th>\n",
       "      <td>2013-09-26</td>\n",
       "      <td>T900</td>\n",
       "      <td>CULEX PIPIENS</td>\n",
       "      <td>4</td>\n",
       "      <td>37</td>\n",
       "      <td>0</td>\n",
       "    </tr>\n",
       "    <tr>\n",
       "      <th>8087</th>\n",
       "      <td>2013-09-26</td>\n",
       "      <td>T900</td>\n",
       "      <td>CULEX PIPIENS/RESTUANS</td>\n",
       "      <td>2</td>\n",
       "      <td>43</td>\n",
       "      <td>1</td>\n",
       "    </tr>\n",
       "  </tbody>\n",
       "</table>\n",
       "<p>8088 rows × 6 columns</p>\n",
       "</div>"
      ],
      "text/plain": [
       "           Date  Trap                 Species  RowCount  NumMosquitos  \\\n",
       "0    2007-06-05  T002           CULEX PIPIENS         1             1   \n",
       "1    2007-06-05  T002  CULEX PIPIENS/RESTUANS         1             3   \n",
       "2    2007-06-05  T002          CULEX RESTUANS         1             5   \n",
       "3    2007-06-05  T009          CULEX RESTUANS         1             2   \n",
       "4    2007-06-05  T011          CULEX RESTUANS         1             1   \n",
       "...         ...   ...                     ...       ...           ...   \n",
       "8083 2013-09-26  T232  CULEX PIPIENS/RESTUANS         1             1   \n",
       "8084 2013-09-26  T233  CULEX PIPIENS/RESTUANS         1             5   \n",
       "8085 2013-09-26  T235  CULEX PIPIENS/RESTUANS         1             1   \n",
       "8086 2013-09-26  T900           CULEX PIPIENS         4            37   \n",
       "8087 2013-09-26  T900  CULEX PIPIENS/RESTUANS         2            43   \n",
       "\n",
       "      WnvPresent  \n",
       "0              0  \n",
       "1              0  \n",
       "2              0  \n",
       "3              0  \n",
       "4              0  \n",
       "...          ...  \n",
       "8083           0  \n",
       "8084           0  \n",
       "8085           0  \n",
       "8086           0  \n",
       "8087           1  \n",
       "\n",
       "[8088 rows x 6 columns]"
      ]
     },
     "execution_count": 7,
     "metadata": {},
     "output_type": "execute_result"
    }
   ],
   "source": [
    "single_row = train_df.groupby(\n",
    "    ['Date', 'Trap', 'Species']\n",
    ").agg(\n",
    "    RowCount=('NumMosquitos', 'count'),\n",
    "    NumMosquitos=('NumMosquitos', 'sum'),\n",
    "    WnvPresent=('WnvPresent', 'max')\n",
    ").reset_index()\n",
    "\n",
    "single_row"
   ]
  },
  {
   "cell_type": "code",
   "execution_count": 8,
   "metadata": {},
   "outputs": [
    {
     "data": {
      "text/plain": [
       "np.float64(0.05650346191889219)"
      ]
     },
     "execution_count": 8,
     "metadata": {},
     "output_type": "execute_result"
    }
   ],
   "source": [
    "single_row.WnvPresent.mean()"
   ]
  },
  {
   "cell_type": "code",
   "execution_count": 9,
   "metadata": {},
   "outputs": [
    {
     "data": {
      "text/plain": [
       "np.int64(51)"
      ]
     },
     "execution_count": 9,
     "metadata": {},
     "output_type": "execute_result"
    }
   ],
   "source": [
    "single_row.RowCount.max()"
   ]
  },
  {
   "cell_type": "code",
   "execution_count": 10,
   "metadata": {},
   "outputs": [
    {
     "data": {
      "text/plain": [
       "np.int64(2532)"
      ]
     },
     "execution_count": 10,
     "metadata": {},
     "output_type": "execute_result"
    }
   ],
   "source": [
    "single_row.NumMosquitos.max()"
   ]
  },
  {
   "cell_type": "code",
   "execution_count": 11,
   "metadata": {},
   "outputs": [
    {
     "data": {
      "text/html": [
       "<div>\n",
       "<style scoped>\n",
       "    .dataframe tbody tr th:only-of-type {\n",
       "        vertical-align: middle;\n",
       "    }\n",
       "\n",
       "    .dataframe tbody tr th {\n",
       "        vertical-align: top;\n",
       "    }\n",
       "\n",
       "    .dataframe thead th {\n",
       "        text-align: right;\n",
       "    }\n",
       "</style>\n",
       "<table border=\"1\" class=\"dataframe\">\n",
       "  <thead>\n",
       "    <tr style=\"text-align: right;\">\n",
       "      <th></th>\n",
       "      <th>RowCount</th>\n",
       "      <th>NumMosquitos</th>\n",
       "    </tr>\n",
       "  </thead>\n",
       "  <tbody>\n",
       "    <tr>\n",
       "      <th>RowCount</th>\n",
       "      <td>1.000000</td>\n",
       "      <td>0.962477</td>\n",
       "    </tr>\n",
       "    <tr>\n",
       "      <th>NumMosquitos</th>\n",
       "      <td>0.962477</td>\n",
       "      <td>1.000000</td>\n",
       "    </tr>\n",
       "  </tbody>\n",
       "</table>\n",
       "</div>"
      ],
      "text/plain": [
       "              RowCount  NumMosquitos\n",
       "RowCount      1.000000      0.962477\n",
       "NumMosquitos  0.962477      1.000000"
      ]
     },
     "execution_count": 11,
     "metadata": {},
     "output_type": "execute_result"
    }
   ],
   "source": [
    "single_row[['RowCount', 'NumMosquitos']].corr()"
   ]
  },
  {
   "cell_type": "code",
   "execution_count": 12,
   "metadata": {},
   "outputs": [
    {
     "data": {
      "text/plain": [
       "Index(['Date', 'Species', 'Trap', 'Latitude', 'Longitude', 'NumMosquitos',\n",
       "       'WnvPresent', 'Month', 'Year', 'Week', 'Dayofyear', 'Dayofweek'],\n",
       "      dtype='object')"
      ]
     },
     "execution_count": 12,
     "metadata": {},
     "output_type": "execute_result"
    }
   ],
   "source": [
    "train_df.columns"
   ]
  },
  {
   "cell_type": "code",
   "execution_count": 13,
   "metadata": {},
   "outputs": [
    {
     "data": {
      "text/plain": [
       "Index(['Date', 'Trap', 'Species', 'RowCount', 'NumMosquitos', 'WnvPresent'], dtype='object')"
      ]
     },
     "execution_count": 13,
     "metadata": {},
     "output_type": "execute_result"
    }
   ],
   "source": [
    "single_row.columns"
   ]
  },
  {
   "cell_type": "code",
   "execution_count": 14,
   "metadata": {},
   "outputs": [],
   "source": [
    "train_df = single_row.merge(\n",
    "    train_df[\n",
    "        ['Date', 'Species', 'Trap', 'Latitude', 'Longitude', 'Month', 'Year', 'Week', 'Dayofyear', 'Dayofweek']\n",
    "    ].drop_duplicates(),\n",
    "    on=['Date', 'Species', 'Trap'],\n",
    "    how='left'\n",
    ")"
   ]
  },
  {
   "cell_type": "code",
   "execution_count": 15,
   "metadata": {},
   "outputs": [
    {
     "data": {
      "text/html": [
       "<div>\n",
       "<style scoped>\n",
       "    .dataframe tbody tr th:only-of-type {\n",
       "        vertical-align: middle;\n",
       "    }\n",
       "\n",
       "    .dataframe tbody tr th {\n",
       "        vertical-align: top;\n",
       "    }\n",
       "\n",
       "    .dataframe thead th {\n",
       "        text-align: right;\n",
       "    }\n",
       "</style>\n",
       "<table border=\"1\" class=\"dataframe\">\n",
       "  <thead>\n",
       "    <tr style=\"text-align: right;\">\n",
       "      <th></th>\n",
       "      <th>Date</th>\n",
       "      <th>Trap</th>\n",
       "      <th>Species</th>\n",
       "      <th>RowCount</th>\n",
       "      <th>NumMosquitos</th>\n",
       "      <th>WnvPresent</th>\n",
       "      <th>Latitude</th>\n",
       "      <th>Longitude</th>\n",
       "      <th>Month</th>\n",
       "      <th>Year</th>\n",
       "      <th>Week</th>\n",
       "      <th>Dayofyear</th>\n",
       "      <th>Dayofweek</th>\n",
       "    </tr>\n",
       "  </thead>\n",
       "  <tbody>\n",
       "    <tr>\n",
       "      <th>0</th>\n",
       "      <td>2007-06-05</td>\n",
       "      <td>T002</td>\n",
       "      <td>CULEX PIPIENS</td>\n",
       "      <td>1</td>\n",
       "      <td>1</td>\n",
       "      <td>0</td>\n",
       "      <td>41.954690</td>\n",
       "      <td>-87.800991</td>\n",
       "      <td>6</td>\n",
       "      <td>2007</td>\n",
       "      <td>23</td>\n",
       "      <td>156</td>\n",
       "      <td>1</td>\n",
       "    </tr>\n",
       "    <tr>\n",
       "      <th>1</th>\n",
       "      <td>2007-06-05</td>\n",
       "      <td>T002</td>\n",
       "      <td>CULEX PIPIENS/RESTUANS</td>\n",
       "      <td>1</td>\n",
       "      <td>3</td>\n",
       "      <td>0</td>\n",
       "      <td>41.954690</td>\n",
       "      <td>-87.800991</td>\n",
       "      <td>6</td>\n",
       "      <td>2007</td>\n",
       "      <td>23</td>\n",
       "      <td>156</td>\n",
       "      <td>1</td>\n",
       "    </tr>\n",
       "    <tr>\n",
       "      <th>2</th>\n",
       "      <td>2007-06-05</td>\n",
       "      <td>T002</td>\n",
       "      <td>CULEX RESTUANS</td>\n",
       "      <td>1</td>\n",
       "      <td>5</td>\n",
       "      <td>0</td>\n",
       "      <td>41.954690</td>\n",
       "      <td>-87.800991</td>\n",
       "      <td>6</td>\n",
       "      <td>2007</td>\n",
       "      <td>23</td>\n",
       "      <td>156</td>\n",
       "      <td>1</td>\n",
       "    </tr>\n",
       "    <tr>\n",
       "      <th>3</th>\n",
       "      <td>2007-06-05</td>\n",
       "      <td>T009</td>\n",
       "      <td>CULEX RESTUANS</td>\n",
       "      <td>1</td>\n",
       "      <td>2</td>\n",
       "      <td>0</td>\n",
       "      <td>41.981964</td>\n",
       "      <td>-87.812827</td>\n",
       "      <td>6</td>\n",
       "      <td>2007</td>\n",
       "      <td>23</td>\n",
       "      <td>156</td>\n",
       "      <td>1</td>\n",
       "    </tr>\n",
       "    <tr>\n",
       "      <th>4</th>\n",
       "      <td>2007-06-05</td>\n",
       "      <td>T011</td>\n",
       "      <td>CULEX RESTUANS</td>\n",
       "      <td>1</td>\n",
       "      <td>1</td>\n",
       "      <td>0</td>\n",
       "      <td>41.944869</td>\n",
       "      <td>-87.832763</td>\n",
       "      <td>6</td>\n",
       "      <td>2007</td>\n",
       "      <td>23</td>\n",
       "      <td>156</td>\n",
       "      <td>1</td>\n",
       "    </tr>\n",
       "    <tr>\n",
       "      <th>...</th>\n",
       "      <td>...</td>\n",
       "      <td>...</td>\n",
       "      <td>...</td>\n",
       "      <td>...</td>\n",
       "      <td>...</td>\n",
       "      <td>...</td>\n",
       "      <td>...</td>\n",
       "      <td>...</td>\n",
       "      <td>...</td>\n",
       "      <td>...</td>\n",
       "      <td>...</td>\n",
       "      <td>...</td>\n",
       "      <td>...</td>\n",
       "    </tr>\n",
       "    <tr>\n",
       "      <th>8083</th>\n",
       "      <td>2013-09-26</td>\n",
       "      <td>T232</td>\n",
       "      <td>CULEX PIPIENS/RESTUANS</td>\n",
       "      <td>1</td>\n",
       "      <td>1</td>\n",
       "      <td>0</td>\n",
       "      <td>41.912563</td>\n",
       "      <td>-87.668055</td>\n",
       "      <td>9</td>\n",
       "      <td>2013</td>\n",
       "      <td>39</td>\n",
       "      <td>269</td>\n",
       "      <td>3</td>\n",
       "    </tr>\n",
       "    <tr>\n",
       "      <th>8084</th>\n",
       "      <td>2013-09-26</td>\n",
       "      <td>T233</td>\n",
       "      <td>CULEX PIPIENS/RESTUANS</td>\n",
       "      <td>1</td>\n",
       "      <td>5</td>\n",
       "      <td>0</td>\n",
       "      <td>42.009876</td>\n",
       "      <td>-87.807277</td>\n",
       "      <td>9</td>\n",
       "      <td>2013</td>\n",
       "      <td>39</td>\n",
       "      <td>269</td>\n",
       "      <td>3</td>\n",
       "    </tr>\n",
       "    <tr>\n",
       "      <th>8085</th>\n",
       "      <td>2013-09-26</td>\n",
       "      <td>T235</td>\n",
       "      <td>CULEX PIPIENS/RESTUANS</td>\n",
       "      <td>1</td>\n",
       "      <td>1</td>\n",
       "      <td>0</td>\n",
       "      <td>41.776428</td>\n",
       "      <td>-87.627096</td>\n",
       "      <td>9</td>\n",
       "      <td>2013</td>\n",
       "      <td>39</td>\n",
       "      <td>269</td>\n",
       "      <td>3</td>\n",
       "    </tr>\n",
       "    <tr>\n",
       "      <th>8086</th>\n",
       "      <td>2013-09-26</td>\n",
       "      <td>T900</td>\n",
       "      <td>CULEX PIPIENS</td>\n",
       "      <td>4</td>\n",
       "      <td>37</td>\n",
       "      <td>0</td>\n",
       "      <td>41.974689</td>\n",
       "      <td>-87.890615</td>\n",
       "      <td>9</td>\n",
       "      <td>2013</td>\n",
       "      <td>39</td>\n",
       "      <td>269</td>\n",
       "      <td>3</td>\n",
       "    </tr>\n",
       "    <tr>\n",
       "      <th>8087</th>\n",
       "      <td>2013-09-26</td>\n",
       "      <td>T900</td>\n",
       "      <td>CULEX PIPIENS/RESTUANS</td>\n",
       "      <td>2</td>\n",
       "      <td>43</td>\n",
       "      <td>1</td>\n",
       "      <td>41.974689</td>\n",
       "      <td>-87.890615</td>\n",
       "      <td>9</td>\n",
       "      <td>2013</td>\n",
       "      <td>39</td>\n",
       "      <td>269</td>\n",
       "      <td>3</td>\n",
       "    </tr>\n",
       "  </tbody>\n",
       "</table>\n",
       "<p>8088 rows × 13 columns</p>\n",
       "</div>"
      ],
      "text/plain": [
       "           Date  Trap                 Species  RowCount  NumMosquitos  \\\n",
       "0    2007-06-05  T002           CULEX PIPIENS         1             1   \n",
       "1    2007-06-05  T002  CULEX PIPIENS/RESTUANS         1             3   \n",
       "2    2007-06-05  T002          CULEX RESTUANS         1             5   \n",
       "3    2007-06-05  T009          CULEX RESTUANS         1             2   \n",
       "4    2007-06-05  T011          CULEX RESTUANS         1             1   \n",
       "...         ...   ...                     ...       ...           ...   \n",
       "8083 2013-09-26  T232  CULEX PIPIENS/RESTUANS         1             1   \n",
       "8084 2013-09-26  T233  CULEX PIPIENS/RESTUANS         1             5   \n",
       "8085 2013-09-26  T235  CULEX PIPIENS/RESTUANS         1             1   \n",
       "8086 2013-09-26  T900           CULEX PIPIENS         4            37   \n",
       "8087 2013-09-26  T900  CULEX PIPIENS/RESTUANS         2            43   \n",
       "\n",
       "      WnvPresent   Latitude  Longitude  Month  Year  Week  Dayofyear  \\\n",
       "0              0  41.954690 -87.800991      6  2007    23        156   \n",
       "1              0  41.954690 -87.800991      6  2007    23        156   \n",
       "2              0  41.954690 -87.800991      6  2007    23        156   \n",
       "3              0  41.981964 -87.812827      6  2007    23        156   \n",
       "4              0  41.944869 -87.832763      6  2007    23        156   \n",
       "...          ...        ...        ...    ...   ...   ...        ...   \n",
       "8083           0  41.912563 -87.668055      9  2013    39        269   \n",
       "8084           0  42.009876 -87.807277      9  2013    39        269   \n",
       "8085           0  41.776428 -87.627096      9  2013    39        269   \n",
       "8086           0  41.974689 -87.890615      9  2013    39        269   \n",
       "8087           1  41.974689 -87.890615      9  2013    39        269   \n",
       "\n",
       "      Dayofweek  \n",
       "0             1  \n",
       "1             1  \n",
       "2             1  \n",
       "3             1  \n",
       "4             1  \n",
       "...         ...  \n",
       "8083          3  \n",
       "8084          3  \n",
       "8085          3  \n",
       "8086          3  \n",
       "8087          3  \n",
       "\n",
       "[8088 rows x 13 columns]"
      ]
     },
     "execution_count": 15,
     "metadata": {},
     "output_type": "execute_result"
    }
   ],
   "source": [
    "train_df"
   ]
  },
  {
   "cell_type": "code",
   "execution_count": 16,
   "metadata": {},
   "outputs": [
    {
     "data": {
      "text/html": [
       "<div>\n",
       "<style scoped>\n",
       "    .dataframe tbody tr th:only-of-type {\n",
       "        vertical-align: middle;\n",
       "    }\n",
       "\n",
       "    .dataframe tbody tr th {\n",
       "        vertical-align: top;\n",
       "    }\n",
       "\n",
       "    .dataframe thead th {\n",
       "        text-align: right;\n",
       "    }\n",
       "</style>\n",
       "<table border=\"1\" class=\"dataframe\">\n",
       "  <thead>\n",
       "    <tr style=\"text-align: right;\">\n",
       "      <th></th>\n",
       "      <th>Id</th>\n",
       "      <th>Date</th>\n",
       "      <th>Species</th>\n",
       "      <th>Trap</th>\n",
       "      <th>Latitude</th>\n",
       "      <th>Longitude</th>\n",
       "      <th>Month</th>\n",
       "      <th>Year</th>\n",
       "      <th>Week</th>\n",
       "      <th>Dayofyear</th>\n",
       "      <th>Dayofweek</th>\n",
       "    </tr>\n",
       "  </thead>\n",
       "  <tbody>\n",
       "    <tr>\n",
       "      <th>0</th>\n",
       "      <td>1</td>\n",
       "      <td>2008-06-11</td>\n",
       "      <td>CULEX PIPIENS/RESTUANS</td>\n",
       "      <td>T002</td>\n",
       "      <td>41.954690</td>\n",
       "      <td>-87.800991</td>\n",
       "      <td>6</td>\n",
       "      <td>2008</td>\n",
       "      <td>24</td>\n",
       "      <td>163</td>\n",
       "      <td>2</td>\n",
       "    </tr>\n",
       "    <tr>\n",
       "      <th>1</th>\n",
       "      <td>2</td>\n",
       "      <td>2008-06-11</td>\n",
       "      <td>CULEX RESTUANS</td>\n",
       "      <td>T002</td>\n",
       "      <td>41.954690</td>\n",
       "      <td>-87.800991</td>\n",
       "      <td>6</td>\n",
       "      <td>2008</td>\n",
       "      <td>24</td>\n",
       "      <td>163</td>\n",
       "      <td>2</td>\n",
       "    </tr>\n",
       "    <tr>\n",
       "      <th>2</th>\n",
       "      <td>3</td>\n",
       "      <td>2008-06-11</td>\n",
       "      <td>CULEX PIPIENS</td>\n",
       "      <td>T002</td>\n",
       "      <td>41.954690</td>\n",
       "      <td>-87.800991</td>\n",
       "      <td>6</td>\n",
       "      <td>2008</td>\n",
       "      <td>24</td>\n",
       "      <td>163</td>\n",
       "      <td>2</td>\n",
       "    </tr>\n",
       "    <tr>\n",
       "      <th>8</th>\n",
       "      <td>9</td>\n",
       "      <td>2008-06-11</td>\n",
       "      <td>CULEX PIPIENS/RESTUANS</td>\n",
       "      <td>T007</td>\n",
       "      <td>41.994991</td>\n",
       "      <td>-87.769279</td>\n",
       "      <td>6</td>\n",
       "      <td>2008</td>\n",
       "      <td>24</td>\n",
       "      <td>163</td>\n",
       "      <td>2</td>\n",
       "    </tr>\n",
       "    <tr>\n",
       "      <th>9</th>\n",
       "      <td>10</td>\n",
       "      <td>2008-06-11</td>\n",
       "      <td>CULEX RESTUANS</td>\n",
       "      <td>T007</td>\n",
       "      <td>41.994991</td>\n",
       "      <td>-87.769279</td>\n",
       "      <td>6</td>\n",
       "      <td>2008</td>\n",
       "      <td>24</td>\n",
       "      <td>163</td>\n",
       "      <td>2</td>\n",
       "    </tr>\n",
       "    <tr>\n",
       "      <th>...</th>\n",
       "      <td>...</td>\n",
       "      <td>...</td>\n",
       "      <td>...</td>\n",
       "      <td>...</td>\n",
       "      <td>...</td>\n",
       "      <td>...</td>\n",
       "      <td>...</td>\n",
       "      <td>...</td>\n",
       "      <td>...</td>\n",
       "      <td>...</td>\n",
       "      <td>...</td>\n",
       "    </tr>\n",
       "    <tr>\n",
       "      <th>116278</th>\n",
       "      <td>116279</td>\n",
       "      <td>2014-10-02</td>\n",
       "      <td>CULEX RESTUANS</td>\n",
       "      <td>T094B</td>\n",
       "      <td>41.719140</td>\n",
       "      <td>-87.669539</td>\n",
       "      <td>10</td>\n",
       "      <td>2014</td>\n",
       "      <td>40</td>\n",
       "      <td>275</td>\n",
       "      <td>3</td>\n",
       "    </tr>\n",
       "    <tr>\n",
       "      <th>116279</th>\n",
       "      <td>116280</td>\n",
       "      <td>2014-10-02</td>\n",
       "      <td>CULEX PIPIENS</td>\n",
       "      <td>T094B</td>\n",
       "      <td>41.719140</td>\n",
       "      <td>-87.669539</td>\n",
       "      <td>10</td>\n",
       "      <td>2014</td>\n",
       "      <td>40</td>\n",
       "      <td>275</td>\n",
       "      <td>3</td>\n",
       "    </tr>\n",
       "    <tr>\n",
       "      <th>116285</th>\n",
       "      <td>116286</td>\n",
       "      <td>2014-10-02</td>\n",
       "      <td>CULEX PIPIENS/RESTUANS</td>\n",
       "      <td>T054C</td>\n",
       "      <td>41.925652</td>\n",
       "      <td>-87.633590</td>\n",
       "      <td>10</td>\n",
       "      <td>2014</td>\n",
       "      <td>40</td>\n",
       "      <td>275</td>\n",
       "      <td>3</td>\n",
       "    </tr>\n",
       "    <tr>\n",
       "      <th>116286</th>\n",
       "      <td>116287</td>\n",
       "      <td>2014-10-02</td>\n",
       "      <td>CULEX RESTUANS</td>\n",
       "      <td>T054C</td>\n",
       "      <td>41.925652</td>\n",
       "      <td>-87.633590</td>\n",
       "      <td>10</td>\n",
       "      <td>2014</td>\n",
       "      <td>40</td>\n",
       "      <td>275</td>\n",
       "      <td>3</td>\n",
       "    </tr>\n",
       "    <tr>\n",
       "      <th>116287</th>\n",
       "      <td>116288</td>\n",
       "      <td>2014-10-02</td>\n",
       "      <td>CULEX PIPIENS</td>\n",
       "      <td>T054C</td>\n",
       "      <td>41.925652</td>\n",
       "      <td>-87.633590</td>\n",
       "      <td>10</td>\n",
       "      <td>2014</td>\n",
       "      <td>40</td>\n",
       "      <td>275</td>\n",
       "      <td>3</td>\n",
       "    </tr>\n",
       "  </tbody>\n",
       "</table>\n",
       "<p>44550 rows × 11 columns</p>\n",
       "</div>"
      ],
      "text/plain": [
       "            Id       Date                 Species   Trap   Latitude  \\\n",
       "0            1 2008-06-11  CULEX PIPIENS/RESTUANS   T002  41.954690   \n",
       "1            2 2008-06-11          CULEX RESTUANS   T002  41.954690   \n",
       "2            3 2008-06-11           CULEX PIPIENS   T002  41.954690   \n",
       "8            9 2008-06-11  CULEX PIPIENS/RESTUANS   T007  41.994991   \n",
       "9           10 2008-06-11          CULEX RESTUANS   T007  41.994991   \n",
       "...        ...        ...                     ...    ...        ...   \n",
       "116278  116279 2014-10-02          CULEX RESTUANS  T094B  41.719140   \n",
       "116279  116280 2014-10-02           CULEX PIPIENS  T094B  41.719140   \n",
       "116285  116286 2014-10-02  CULEX PIPIENS/RESTUANS  T054C  41.925652   \n",
       "116286  116287 2014-10-02          CULEX RESTUANS  T054C  41.925652   \n",
       "116287  116288 2014-10-02           CULEX PIPIENS  T054C  41.925652   \n",
       "\n",
       "        Longitude  Month  Year  Week  Dayofyear  Dayofweek  \n",
       "0      -87.800991      6  2008    24        163          2  \n",
       "1      -87.800991      6  2008    24        163          2  \n",
       "2      -87.800991      6  2008    24        163          2  \n",
       "8      -87.769279      6  2008    24        163          2  \n",
       "9      -87.769279      6  2008    24        163          2  \n",
       "...           ...    ...   ...   ...        ...        ...  \n",
       "116278 -87.669539     10  2014    40        275          3  \n",
       "116279 -87.669539     10  2014    40        275          3  \n",
       "116285 -87.633590     10  2014    40        275          3  \n",
       "116286 -87.633590     10  2014    40        275          3  \n",
       "116287 -87.633590     10  2014    40        275          3  \n",
       "\n",
       "[44550 rows x 11 columns]"
      ]
     },
     "execution_count": 16,
     "metadata": {},
     "output_type": "execute_result"
    }
   ],
   "source": [
    "test_df"
   ]
  },
  {
   "cell_type": "code",
   "execution_count": 17,
   "metadata": {},
   "outputs": [
    {
     "data": {
      "text/plain": [
       "array(['T002', 'T009', 'T011', 'T015', 'T016', 'T019', 'T025', 'T028',\n",
       "       'T031', 'T033', 'T045', 'T046', 'T048', 'T049', 'T050', 'T054',\n",
       "       'T086', 'T089', 'T090', 'T092', 'T094', 'T096', 'T135', 'T141',\n",
       "       'T142', 'T143', 'T145', 'T146', 'T147', 'T149', 'T150', 'T151',\n",
       "       'T152', 'T153', 'T154', 'T158', 'T159', 'T162', 'T218', 'T220',\n",
       "       'T001', 'T003', 'T006', 'T007', 'T008', 'T012', 'T034', 'T037',\n",
       "       'T040', 'T043', 'T047', 'T051', 'T085', 'T088', 'T129', 'T148',\n",
       "       'T161', 'T219', 'T013', 'T014', 'T018', 'T030', 'T084', 'T091',\n",
       "       'T144', 'T160', 'T005', 'T017', 'T044', 'T095', 'T004', 'T035',\n",
       "       'T036', 'T039', 'T060', 'T061', 'T062', 'T065', 'T066', 'T067',\n",
       "       'T069', 'T070', 'T071', 'T073', 'T074', 'T076', 'T077', 'T079',\n",
       "       'T080', 'T081', 'T082', 'T083', 'T114', 'T155', 'T063', 'T115',\n",
       "       'T138', 'T200', 'T206', 'T209', 'T212', 'T215', 'T107', 'T128',\n",
       "       'T072', 'T027', 'T075', 'T078', 'T097', 'T099', 'T100', 'T102',\n",
       "       'T103', 'T156', 'T157', 'T221', 'T900', 'T903', 'T222', 'T223',\n",
       "       'T225', 'T227', 'T224', 'T226', 'T229', 'T230', 'T228', 'T232',\n",
       "       'T231', 'T235', 'T233', 'T236', 'T237', 'T238', 'T094B', 'T054C'],\n",
       "      dtype=object)"
      ]
     },
     "execution_count": 17,
     "metadata": {},
     "output_type": "execute_result"
    }
   ],
   "source": [
    "train_df.Trap.unique()"
   ]
  },
  {
   "cell_type": "code",
   "execution_count": 18,
   "metadata": {},
   "outputs": [
    {
     "data": {
      "text/plain": [
       "134"
      ]
     },
     "execution_count": 18,
     "metadata": {},
     "output_type": "execute_result"
    }
   ],
   "source": [
    "len(train_df.Trap.str[:4].unique())"
   ]
  },
  {
   "cell_type": "code",
   "execution_count": 19,
   "metadata": {},
   "outputs": [
    {
     "name": "stdout",
     "output_type": "stream",
     "text": [
      "167 20 0.06779661016949153 0.0\n",
      "129 60 0.06349206349206349 0.14285714285714285\n"
     ]
    }
   ],
   "source": [
    "print(trap_max_mos['T094'], trap_max_mos['T094B'], trap_wnv_proba['T094'], trap_wnv_proba['T094B'])\n",
    "print(trap_max_mos['T054'], trap_max_mos['T054C'], trap_wnv_proba['T054'], trap_wnv_proba['T054C'])"
   ]
  },
  {
   "cell_type": "code",
   "execution_count": 20,
   "metadata": {},
   "outputs": [
    {
     "data": {
      "text/plain": [
       "array(['T002', 'T007', 'T015', 'T045', 'T046', 'T048', 'T049', 'T050',\n",
       "       'T054', 'T086', 'T091', 'T094', 'T096', 'T129', 'T143', 'T148',\n",
       "       'T153', 'T159', 'T009', 'T011', 'T016', 'T019', 'T025', 'T028',\n",
       "       'T031', 'T033', 'T089', 'T090', 'T092', 'T135', 'T141', 'T142',\n",
       "       'T145', 'T146', 'T147', 'T149', 'T150', 'T151', 'T152', 'T154',\n",
       "       'T158', 'T162', 'T218', 'T220', 'T001', 'T003', 'T006', 'T008',\n",
       "       'T012', 'T034', 'T037', 'T040', 'T043', 'T047', 'T051', 'T085',\n",
       "       'T088', 'T161', 'T219', 'T013', 'T014', 'T018', 'T030', 'T084',\n",
       "       'T144', 'T160', 'T005', 'T017', 'T044', 'T095', 'T004', 'T035',\n",
       "       'T036', 'T039', 'T060', 'T061', 'T062', 'T065', 'T066', 'T067',\n",
       "       'T069', 'T070', 'T071', 'T073', 'T074', 'T075', 'T076', 'T077',\n",
       "       'T079', 'T080', 'T081', 'T082', 'T083', 'T114', 'T155', 'T063',\n",
       "       'T115', 'T138', 'T200', 'T206', 'T209', 'T212', 'T215', 'T107',\n",
       "       'T128', 'T072', 'T078', 'T097', 'T099', 'T100', 'T102', 'T103',\n",
       "       'T027', 'T156', 'T157', 'T221', 'T900', 'T903', 'T090A', 'T090B',\n",
       "       'T090C', 'T200A', 'T128A', 'T200B', 'T218A', 'T218C', 'T218B',\n",
       "       'T222', 'T223', 'T225', 'T227', 'T224', 'T226', 'T229', 'T230',\n",
       "       'T228', 'T231', 'T232', 'T002A', 'T002B', 'T233', 'T234', 'T235',\n",
       "       'T236', 'T237', 'T238', 'T065A', 'T094B', 'T054C'], dtype=object)"
      ]
     },
     "execution_count": 20,
     "metadata": {},
     "output_type": "execute_result"
    }
   ],
   "source": [
    "test_df.Trap.unique()"
   ]
  },
  {
   "cell_type": "code",
   "execution_count": 21,
   "metadata": {},
   "outputs": [
    {
     "data": {
      "text/plain": [
       "135"
      ]
     },
     "execution_count": 21,
     "metadata": {},
     "output_type": "execute_result"
    }
   ],
   "source": [
    "len(test_df.Trap.str[:4].unique())"
   ]
  },
  {
   "cell_type": "code",
   "execution_count": 22,
   "metadata": {},
   "outputs": [
    {
     "data": {
      "text/plain": [
       "array(['T234'], dtype=object)"
      ]
     },
     "execution_count": 22,
     "metadata": {},
     "output_type": "execute_result"
    }
   ],
   "source": [
    "test_df.Trap.str[:4].unique()[~pd.Series(test_df.Trap.str[:4].unique()).isin(train_df.Trap.str[:4].unique())]"
   ]
  },
  {
   "cell_type": "code",
   "execution_count": 23,
   "metadata": {},
   "outputs": [],
   "source": [
    "train_df.Trap = train_df.Trap.str[:4]\n",
    "test_df.Trap = test_df.Trap.str[:4]"
   ]
  },
  {
   "cell_type": "code",
   "execution_count": 24,
   "metadata": {},
   "outputs": [],
   "source": [
    "train_df['trap_max_mos'] = train_df.Trap.map(trap_max_mos.to_dict())\n",
    "train_df['trap_wnv_proba'] = train_df.Trap.map(trap_wnv_proba.to_dict())\n",
    "\n",
    "# mean or median\n",
    "test_df['trap_max_mos'] = test_df.Trap.map(trap_max_mos.to_dict()).fillna(trap_max_mos.median())\n",
    "test_df['trap_wnv_proba'] = test_df.Trap.map(trap_wnv_proba.to_dict()).fillna(trap_wnv_proba.median())"
   ]
  },
  {
   "cell_type": "code",
   "execution_count": 25,
   "metadata": {},
   "outputs": [],
   "source": [
    "from sklearn.preprocessing import KBinsDiscretizer\n",
    "\n",
    "\n",
    "lat_enc = KBinsDiscretizer(n_bins=3, encode='ordinal')\n",
    "\n",
    "train_df['lat_bin'] = lat_enc.fit_transform(train_df[['Latitude']])\n",
    "test_df['lat_bin'] = lat_enc.transform(test_df[['Latitude']])\n",
    "\n",
    "long_enc = KBinsDiscretizer(n_bins=3, encode='ordinal')\n",
    "\n",
    "train_df['long_bin'] = long_enc.fit_transform(train_df[['Longitude']])\n",
    "test_df['long_bin'] = long_enc.transform(test_df[['Longitude']])"
   ]
  },
  {
   "cell_type": "code",
   "execution_count": 26,
   "metadata": {},
   "outputs": [],
   "source": [
    "from src.features import SpeciesEncoder\n",
    "\n",
    "species_enc = SpeciesEncoder()\n",
    "\n",
    "train_df = species_enc.fit_transform(train_df)\n",
    "test_df = species_enc.transform(test_df)"
   ]
  },
  {
   "cell_type": "code",
   "execution_count": 27,
   "metadata": {},
   "outputs": [],
   "source": [
    "train_columns = ['Week', 'Dayofyear', 'Dayofweek',\n",
    "       'trap_max_mos', 'trap_wnv_proba', 'lat_bin', 'long_bin',\n",
    "       'Species_CULEX PIPIENS', 'Species_CULEX PIPIENS/RESTUANS',\n",
    "       'Species_CULEX RESTUANS', 'WnvPresent']\n",
    "\n",
    "test_columns = ['Id', 'Week', 'Dayofyear', 'Dayofweek',\n",
    "       'trap_max_mos', 'trap_wnv_proba', 'lat_bin', 'long_bin',\n",
    "       'Species_CULEX PIPIENS', 'Species_CULEX PIPIENS/RESTUANS',\n",
    "       'Species_CULEX RESTUANS']"
   ]
  },
  {
   "cell_type": "code",
   "execution_count": 28,
   "metadata": {},
   "outputs": [],
   "source": [
    "X_train = train_df[train_columns].copy()\n",
    "y_train = X_train.pop('WnvPresent')"
   ]
  },
  {
   "cell_type": "code",
   "execution_count": 30,
   "metadata": {},
   "outputs": [
    {
     "name": "stdout",
     "output_type": "stream",
     "text": [
      "0.7687091132165861\n"
     ]
    }
   ],
   "source": [
    "from sklearn.pipeline import Pipeline\n",
    "from sklearn.preprocessing import StandardScaler\n",
    "from sklearn.linear_model import LogisticRegression\n",
    "from sklearn.model_selection import cross_validate, RepeatedStratifiedKFold\n",
    "\n",
    "\n",
    "scaler = StandardScaler()\n",
    "clf = LogisticRegression()\n",
    "\n",
    "steps = [\n",
    "    ('scale', scaler),\n",
    "    ('classifier', clf)\n",
    "]\n",
    "pipeline = Pipeline(steps=steps)\n",
    "\n",
    "cv = RepeatedStratifiedKFold(n_splits=5, n_repeats=3)\n",
    "\n",
    "results_cv = cross_validate(pipeline, X_train, y_train, cv=cv, scoring='roc_auc')\n",
    "\n",
    "print(results_cv['test_score'].mean())"
   ]
  },
  {
   "cell_type": "code",
   "execution_count": 32,
   "metadata": {},
   "outputs": [
    {
     "data": {
      "text/plain": [
       "(7837, 10)"
      ]
     },
     "execution_count": 32,
     "metadata": {},
     "output_type": "execute_result"
    }
   ],
   "source": [
    "X_train.shape"
   ]
  },
  {
   "cell_type": "code",
   "execution_count": 32,
   "metadata": {},
   "outputs": [
    {
     "data": {
      "text/plain": [
       "['Tmax_1',\n",
       " 'Tmin_1',\n",
       " 'Tavg_1',\n",
       " 'DewPoint_1',\n",
       " 'WetBulb_1',\n",
       " 'PrecipTotal_1',\n",
       " 'AvgSpeed_1',\n",
       " 'ResultSpeed_1',\n",
       " 'ResultDir_1',\n",
       " 'Tmax_2',\n",
       " 'Tmin_2',\n",
       " 'Tavg_2',\n",
       " 'DewPoint_2',\n",
       " 'WetBulb_2',\n",
       " 'PrecipTotal_2',\n",
       " 'AvgSpeed_2',\n",
       " 'ResultSpeed_2',\n",
       " 'ResultDir_2']"
      ]
     },
     "execution_count": 32,
     "metadata": {},
     "output_type": "execute_result"
    }
   ],
   "source": [
    "weather_columns = weather_df.drop('Date', axis=1).columns.to_list()\n",
    "weather_columns"
   ]
  },
  {
   "cell_type": "code",
   "execution_count": 33,
   "metadata": {},
   "outputs": [],
   "source": [
    "train_df = train_df.merge(weather_df, on='Date')\n",
    "test_df = test_df.merge(weather_df, on='Date')"
   ]
  },
  {
   "cell_type": "code",
   "execution_count": 34,
   "metadata": {},
   "outputs": [],
   "source": [
    "X_train = train_df[train_columns+weather_columns].copy()\n",
    "y_train = X_train.pop('WnvPresent')"
   ]
  },
  {
   "cell_type": "code",
   "execution_count": 35,
   "metadata": {},
   "outputs": [
    {
     "name": "stdout",
     "output_type": "stream",
     "text": [
      "0.8147198980682312\n"
     ]
    }
   ],
   "source": [
    "scaler = StandardScaler()\n",
    "clf = LogisticRegression()\n",
    "\n",
    "steps = [\n",
    "    ('scale', scaler),\n",
    "    ('classifier', clf)\n",
    "]\n",
    "pipeline = Pipeline(steps=steps)\n",
    "\n",
    "cv = RepeatedStratifiedKFold(n_splits=5, n_repeats=3)\n",
    "\n",
    "results_cv = cross_validate(pipeline, X_train, y_train, cv=cv, scoring='roc_auc')\n",
    "\n",
    "print(results_cv['test_score'].mean())"
   ]
  },
  {
   "cell_type": "code",
   "execution_count": 36,
   "metadata": {},
   "outputs": [],
   "source": [
    "# from lightgbm import LGBMClassifier\n",
    "\n",
    "\n",
    "# scaler = StandardScaler()\n",
    "# clf = LGBMClassifier()\n",
    "\n",
    "# steps = [\n",
    "#     ('scale', scaler),\n",
    "#     ('classifier', clf)\n",
    "# ]\n",
    "# pipeline = Pipeline(steps=steps)\n",
    "\n",
    "# cv = RepeatedStratifiedKFold(n_splits=5, n_repeats=3)\n",
    "\n",
    "# results_cv = cross_validate(pipeline, X_train, y_train, cv=cv, scoring='roc_auc')\n",
    "\n",
    "# print(results_cv['test_score'].mean())"
   ]
  },
  {
   "cell_type": "code",
   "execution_count": 37,
   "metadata": {},
   "outputs": [
    {
     "data": {
      "text/plain": [
       "np.float64(0.8249350216296842)"
      ]
     },
     "execution_count": 37,
     "metadata": {},
     "output_type": "execute_result"
    }
   ],
   "source": [
    "from sklearn.metrics import roc_auc_score\n",
    "\n",
    "\n",
    "pipeline.fit(X_train, y_train)\n",
    "roc_auc_score(y_train, pipeline.predict_proba(X_train)[:,1])"
   ]
  },
  {
   "cell_type": "code",
   "execution_count": 38,
   "metadata": {},
   "outputs": [],
   "source": [
    "\n",
    "X_test = test_df[test_columns+weather_columns].reset_index(drop=True)\n",
    "y_pred = pipeline.predict_proba(X_test.drop('Id', axis=1))[:,1]\n",
    "X_test['pred_proba'] = y_pred\n"
   ]
  },
  {
   "cell_type": "code",
   "execution_count": 39,
   "metadata": {},
   "outputs": [
    {
     "data": {
      "text/html": [
       "<div>\n",
       "<style scoped>\n",
       "    .dataframe tbody tr th:only-of-type {\n",
       "        vertical-align: middle;\n",
       "    }\n",
       "\n",
       "    .dataframe tbody tr th {\n",
       "        vertical-align: top;\n",
       "    }\n",
       "\n",
       "    .dataframe thead th {\n",
       "        text-align: right;\n",
       "    }\n",
       "</style>\n",
       "<table border=\"1\" class=\"dataframe\">\n",
       "  <thead>\n",
       "    <tr style=\"text-align: right;\">\n",
       "      <th></th>\n",
       "      <th>Id</th>\n",
       "      <th>pred_proba</th>\n",
       "    </tr>\n",
       "  </thead>\n",
       "  <tbody>\n",
       "    <tr>\n",
       "      <th>0</th>\n",
       "      <td>1</td>\n",
       "      <td>0.035544</td>\n",
       "    </tr>\n",
       "    <tr>\n",
       "      <th>1</th>\n",
       "      <td>2</td>\n",
       "      <td>0.013578</td>\n",
       "    </tr>\n",
       "    <tr>\n",
       "      <th>2</th>\n",
       "      <td>3</td>\n",
       "      <td>0.043321</td>\n",
       "    </tr>\n",
       "    <tr>\n",
       "      <th>3</th>\n",
       "      <td>9</td>\n",
       "      <td>0.008039</td>\n",
       "    </tr>\n",
       "    <tr>\n",
       "      <th>4</th>\n",
       "      <td>10</td>\n",
       "      <td>0.003018</td>\n",
       "    </tr>\n",
       "    <tr>\n",
       "      <th>...</th>\n",
       "      <td>...</td>\n",
       "      <td>...</td>\n",
       "    </tr>\n",
       "    <tr>\n",
       "      <th>43632</th>\n",
       "      <td>115071</td>\n",
       "      <td>0.005528</td>\n",
       "    </tr>\n",
       "    <tr>\n",
       "      <th>43633</th>\n",
       "      <td>115072</td>\n",
       "      <td>0.017958</td>\n",
       "    </tr>\n",
       "    <tr>\n",
       "      <th>43634</th>\n",
       "      <td>115078</td>\n",
       "      <td>0.015098</td>\n",
       "    </tr>\n",
       "    <tr>\n",
       "      <th>43635</th>\n",
       "      <td>115079</td>\n",
       "      <td>0.005693</td>\n",
       "    </tr>\n",
       "    <tr>\n",
       "      <th>43636</th>\n",
       "      <td>115080</td>\n",
       "      <td>0.018488</td>\n",
       "    </tr>\n",
       "  </tbody>\n",
       "</table>\n",
       "<p>43637 rows × 2 columns</p>\n",
       "</div>"
      ],
      "text/plain": [
       "           Id  pred_proba\n",
       "0           1    0.035544\n",
       "1           2    0.013578\n",
       "2           3    0.043321\n",
       "3           9    0.008039\n",
       "4          10    0.003018\n",
       "...       ...         ...\n",
       "43632  115071    0.005528\n",
       "43633  115072    0.017958\n",
       "43634  115078    0.015098\n",
       "43635  115079    0.005693\n",
       "43636  115080    0.018488\n",
       "\n",
       "[43637 rows x 2 columns]"
      ]
     },
     "execution_count": 39,
     "metadata": {},
     "output_type": "execute_result"
    }
   ],
   "source": [
    "predictions_df = X_test[['Id', 'pred_proba']].copy()\n",
    "predictions_df"
   ]
  },
  {
   "cell_type": "code",
   "execution_count": 40,
   "metadata": {},
   "outputs": [
    {
     "data": {
      "text/plain": [
       "np.int64(43637)"
      ]
     },
     "execution_count": 40,
     "metadata": {},
     "output_type": "execute_result"
    }
   ],
   "source": [
    "(predictions_df.pred_proba!=0).sum()"
   ]
  },
  {
   "cell_type": "code",
   "execution_count": 41,
   "metadata": {},
   "outputs": [
    {
     "data": {
      "text/html": [
       "<div>\n",
       "<style scoped>\n",
       "    .dataframe tbody tr th:only-of-type {\n",
       "        vertical-align: middle;\n",
       "    }\n",
       "\n",
       "    .dataframe tbody tr th {\n",
       "        vertical-align: top;\n",
       "    }\n",
       "\n",
       "    .dataframe thead th {\n",
       "        text-align: right;\n",
       "    }\n",
       "</style>\n",
       "<table border=\"1\" class=\"dataframe\">\n",
       "  <thead>\n",
       "    <tr style=\"text-align: right;\">\n",
       "      <th></th>\n",
       "      <th>Id</th>\n",
       "      <th>WnvPresent</th>\n",
       "    </tr>\n",
       "  </thead>\n",
       "  <tbody>\n",
       "    <tr>\n",
       "      <th>0</th>\n",
       "      <td>1</td>\n",
       "      <td>0</td>\n",
       "    </tr>\n",
       "    <tr>\n",
       "      <th>1</th>\n",
       "      <td>2</td>\n",
       "      <td>0</td>\n",
       "    </tr>\n",
       "    <tr>\n",
       "      <th>2</th>\n",
       "      <td>3</td>\n",
       "      <td>0</td>\n",
       "    </tr>\n",
       "    <tr>\n",
       "      <th>3</th>\n",
       "      <td>4</td>\n",
       "      <td>0</td>\n",
       "    </tr>\n",
       "    <tr>\n",
       "      <th>4</th>\n",
       "      <td>5</td>\n",
       "      <td>0</td>\n",
       "    </tr>\n",
       "    <tr>\n",
       "      <th>...</th>\n",
       "      <td>...</td>\n",
       "      <td>...</td>\n",
       "    </tr>\n",
       "    <tr>\n",
       "      <th>116288</th>\n",
       "      <td>116289</td>\n",
       "      <td>0</td>\n",
       "    </tr>\n",
       "    <tr>\n",
       "      <th>116289</th>\n",
       "      <td>116290</td>\n",
       "      <td>0</td>\n",
       "    </tr>\n",
       "    <tr>\n",
       "      <th>116290</th>\n",
       "      <td>116291</td>\n",
       "      <td>0</td>\n",
       "    </tr>\n",
       "    <tr>\n",
       "      <th>116291</th>\n",
       "      <td>116292</td>\n",
       "      <td>0</td>\n",
       "    </tr>\n",
       "    <tr>\n",
       "      <th>116292</th>\n",
       "      <td>116293</td>\n",
       "      <td>0</td>\n",
       "    </tr>\n",
       "  </tbody>\n",
       "</table>\n",
       "<p>116293 rows × 2 columns</p>\n",
       "</div>"
      ],
      "text/plain": [
       "            Id  WnvPresent\n",
       "0            1           0\n",
       "1            2           0\n",
       "2            3           0\n",
       "3            4           0\n",
       "4            5           0\n",
       "...        ...         ...\n",
       "116288  116289           0\n",
       "116289  116290           0\n",
       "116290  116291           0\n",
       "116291  116292           0\n",
       "116292  116293           0\n",
       "\n",
       "[116293 rows x 2 columns]"
      ]
     },
     "execution_count": 41,
     "metadata": {},
     "output_type": "execute_result"
    }
   ],
   "source": [
    "sample = pd.read_csv('../data/raw/sampleSubmission.csv')\n",
    "sample"
   ]
  },
  {
   "cell_type": "code",
   "execution_count": 42,
   "metadata": {},
   "outputs": [
    {
     "data": {
      "text/html": [
       "<div>\n",
       "<style scoped>\n",
       "    .dataframe tbody tr th:only-of-type {\n",
       "        vertical-align: middle;\n",
       "    }\n",
       "\n",
       "    .dataframe tbody tr th {\n",
       "        vertical-align: top;\n",
       "    }\n",
       "\n",
       "    .dataframe thead th {\n",
       "        text-align: right;\n",
       "    }\n",
       "</style>\n",
       "<table border=\"1\" class=\"dataframe\">\n",
       "  <thead>\n",
       "    <tr style=\"text-align: right;\">\n",
       "      <th></th>\n",
       "      <th>Id</th>\n",
       "      <th>WnvPresent</th>\n",
       "      <th>pred_proba</th>\n",
       "    </tr>\n",
       "  </thead>\n",
       "  <tbody>\n",
       "    <tr>\n",
       "      <th>0</th>\n",
       "      <td>1</td>\n",
       "      <td>0</td>\n",
       "      <td>0.035544</td>\n",
       "    </tr>\n",
       "    <tr>\n",
       "      <th>1</th>\n",
       "      <td>2</td>\n",
       "      <td>0</td>\n",
       "      <td>0.013578</td>\n",
       "    </tr>\n",
       "    <tr>\n",
       "      <th>2</th>\n",
       "      <td>3</td>\n",
       "      <td>0</td>\n",
       "      <td>0.043321</td>\n",
       "    </tr>\n",
       "    <tr>\n",
       "      <th>3</th>\n",
       "      <td>4</td>\n",
       "      <td>0</td>\n",
       "      <td>0.000000</td>\n",
       "    </tr>\n",
       "    <tr>\n",
       "      <th>4</th>\n",
       "      <td>5</td>\n",
       "      <td>0</td>\n",
       "      <td>0.000000</td>\n",
       "    </tr>\n",
       "    <tr>\n",
       "      <th>...</th>\n",
       "      <td>...</td>\n",
       "      <td>...</td>\n",
       "      <td>...</td>\n",
       "    </tr>\n",
       "    <tr>\n",
       "      <th>116288</th>\n",
       "      <td>116289</td>\n",
       "      <td>0</td>\n",
       "      <td>0.000000</td>\n",
       "    </tr>\n",
       "    <tr>\n",
       "      <th>116289</th>\n",
       "      <td>116290</td>\n",
       "      <td>0</td>\n",
       "      <td>0.000000</td>\n",
       "    </tr>\n",
       "    <tr>\n",
       "      <th>116290</th>\n",
       "      <td>116291</td>\n",
       "      <td>0</td>\n",
       "      <td>0.000000</td>\n",
       "    </tr>\n",
       "    <tr>\n",
       "      <th>116291</th>\n",
       "      <td>116292</td>\n",
       "      <td>0</td>\n",
       "      <td>0.000000</td>\n",
       "    </tr>\n",
       "    <tr>\n",
       "      <th>116292</th>\n",
       "      <td>116293</td>\n",
       "      <td>0</td>\n",
       "      <td>0.000000</td>\n",
       "    </tr>\n",
       "  </tbody>\n",
       "</table>\n",
       "<p>116293 rows × 3 columns</p>\n",
       "</div>"
      ],
      "text/plain": [
       "            Id  WnvPresent  pred_proba\n",
       "0            1           0    0.035544\n",
       "1            2           0    0.013578\n",
       "2            3           0    0.043321\n",
       "3            4           0    0.000000\n",
       "4            5           0    0.000000\n",
       "...        ...         ...         ...\n",
       "116288  116289           0    0.000000\n",
       "116289  116290           0    0.000000\n",
       "116290  116291           0    0.000000\n",
       "116291  116292           0    0.000000\n",
       "116292  116293           0    0.000000\n",
       "\n",
       "[116293 rows x 3 columns]"
      ]
     },
     "execution_count": 42,
     "metadata": {},
     "output_type": "execute_result"
    }
   ],
   "source": [
    "results = pd.merge(sample, predictions_df, on='Id', how='outer').fillna(0)\n",
    "results"
   ]
  },
  {
   "cell_type": "code",
   "execution_count": 43,
   "metadata": {},
   "outputs": [],
   "source": [
    "results['WnvPresent'] = results['pred_proba']\n",
    "results.drop('pred_proba', axis=1, inplace=True)"
   ]
  },
  {
   "cell_type": "code",
   "execution_count": 44,
   "metadata": {},
   "outputs": [
    {
     "data": {
      "text/plain": [
       "np.int64(43637)"
      ]
     },
     "execution_count": 44,
     "metadata": {},
     "output_type": "execute_result"
    }
   ],
   "source": [
    "(results.WnvPresent!=0).sum()"
   ]
  },
  {
   "cell_type": "code",
   "execution_count": 45,
   "metadata": {},
   "outputs": [],
   "source": [
    "results.to_csv('../data/submission/test_results.csv', index=False)"
   ]
  },
  {
   "cell_type": "code",
   "execution_count": 46,
   "metadata": {},
   "outputs": [
    {
     "name": "stdout",
     "output_type": "stream",
     "text": [
      "Warning: Your Kaggle API key is readable by other users on this system! To fix this, you can run 'chmod 600 /home/aga/.kaggle/kaggle.json'\n",
      "Warning: Your Kaggle API key is readable by other users on this system! To fix this, you can run 'chmod 600 /home/aga/.kaggle/kaggle.json'\n"
     ]
    }
   ],
   "source": [
    "from kaggle.api.kaggle_api_extended import KaggleApi\n",
    "\n",
    "api = KaggleApi()\n",
    "api.authenticate()"
   ]
  },
  {
   "cell_type": "code",
   "execution_count": 47,
   "metadata": {},
   "outputs": [
    {
     "name": "stderr",
     "output_type": "stream",
     "text": [
      "100%|██████████| 1.80M/1.80M [00:03<00:00, 599kB/s] \n"
     ]
    },
    {
     "data": {
      "text/plain": [
       "Successfully submitted to West Nile Virus Prediction"
      ]
     },
     "execution_count": 47,
     "metadata": {},
     "output_type": "execute_result"
    }
   ],
   "source": [
    "api.competition_submit('../data/submission/test_results.csv', 'test_lr', 'predict-west-nile-virus')"
   ]
  },
  {
   "cell_type": "code",
   "execution_count": 48,
   "metadata": {},
   "outputs": [
    {
     "data": {
      "text/plain": [
       "'0.70988'"
      ]
     },
     "execution_count": 48,
     "metadata": {},
     "output_type": "execute_result"
    }
   ],
   "source": [
    "api.competitions_submissions_list(id='predict-west-nile-virus')[0]['privateScore']"
   ]
  },
  {
   "cell_type": "code",
   "execution_count": 50,
   "metadata": {},
   "outputs": [
    {
     "data": {
      "text/plain": [
       "['Week',\n",
       " 'Dayofyear',\n",
       " 'Dayofweek',\n",
       " 'trap_max_mos',\n",
       " 'trap_wnv_proba',\n",
       " 'lat_bin',\n",
       " 'long_bin',\n",
       " 'Species_CULEX PIPIENS',\n",
       " 'Species_CULEX PIPIENS/RESTUANS',\n",
       " 'Species_CULEX RESTUANS',\n",
       " 'WnvPresent']"
      ]
     },
     "execution_count": 50,
     "metadata": {},
     "output_type": "execute_result"
    }
   ],
   "source": [
    "train_columns"
   ]
  },
  {
   "cell_type": "code",
   "execution_count": 52,
   "metadata": {},
   "outputs": [
    {
     "data": {
      "text/plain": [
       "['Tmax_1',\n",
       " 'Tmin_1',\n",
       " 'Tavg_1',\n",
       " 'DewPoint_1',\n",
       " 'WetBulb_1',\n",
       " 'PrecipTotal_1',\n",
       " 'AvgSpeed_1',\n",
       " 'ResultSpeed_1',\n",
       " 'ResultDir_1',\n",
       " 'Tmax_2',\n",
       " 'Tmin_2',\n",
       " 'Tavg_2',\n",
       " 'DewPoint_2',\n",
       " 'WetBulb_2',\n",
       " 'PrecipTotal_2',\n",
       " 'AvgSpeed_2',\n",
       " 'ResultSpeed_2',\n",
       " 'ResultDir_2']"
      ]
     },
     "execution_count": 52,
     "metadata": {},
     "output_type": "execute_result"
    }
   ],
   "source": [
    "weather_columns"
   ]
  },
  {
   "cell_type": "code",
   "execution_count": 53,
   "metadata": {},
   "outputs": [],
   "source": [
    "column_set_1 = ['trap_max_mos', 'trap_wnv_proba', 'lat_bin', 'long_bin', 'Species_CULEX PIPIENS', 'Species_CULEX PIPIENS/RESTUANS',\n",
    "                'Species_CULEX RESTUANS', 'Tmax_1', 'Tmax_2', 'PrecipTotal_1', 'PrecipTotal_2', 'AvgSpeed_1', 'AvgSpeed_2']\n",
    "column_set_2 = ['Week', 'trap_max_mos', 'trap_wnv_proba', 'lat_bin', 'long_bin', 'Species_CULEX PIPIENS', 'Species_CULEX PIPIENS/RESTUANS',\n",
    "                'Species_CULEX RESTUANS', 'Tavg_1', 'Tavg_2', 'WetBulb_1', 'WetBulb_2', 'ResultSpeed_1', 'ResultSpeed_2']\n",
    "column_set_3 = ['trap_max_mos', 'trap_wnv_proba', 'lat_bin', 'long_bin', 'Species_CULEX PIPIENS', 'Species_CULEX PIPIENS/RESTUANS',\n",
    "                'Species_CULEX RESTUANS'] + weather_columns"
   ]
  },
  {
   "cell_type": "code",
   "execution_count": 59,
   "metadata": {},
   "outputs": [
    {
     "name": "stdout",
     "output_type": "stream",
     "text": [
      "0.7707864022183589\n",
      "0.776970117392767\n",
      "0.7751399111365753\n",
      "0.7817983154748259\n",
      "0.7946670593581767\n",
      "0.8065698863585615\n"
     ]
    }
   ],
   "source": [
    "columnn_sets = [column_set_1, column_set_2, column_set_3]\n",
    "\n",
    "predictions_df = test_df[['Id']].reset_index(drop=True)\n",
    "\n",
    "for i in range(len(columnn_sets)):\n",
    "    \n",
    "    X_train = train_df[columnn_sets[i]].copy()\n",
    "    y_train = train_df['WnvPresent'].copy()\n",
    "    \n",
    "    scaler = StandardScaler()\n",
    "    clf = LogisticRegression()\n",
    "\n",
    "    steps = [\n",
    "        ('scale', scaler),\n",
    "        ('classifier', clf)\n",
    "    ]\n",
    "    pipeline = Pipeline(steps=steps)\n",
    "\n",
    "    cv = RepeatedStratifiedKFold(n_splits=5, n_repeats=3)\n",
    "\n",
    "    results_cv = cross_validate(pipeline, X_train, y_train, cv=cv, scoring='roc_auc')\n",
    "\n",
    "    print(results_cv['test_score'].mean())\n",
    "    \n",
    "    pipeline.fit(X_train, y_train)\n",
    "    train_score = roc_auc_score(y_train, pipeline.predict_proba(X_train)[:,1])\n",
    "    print(train_score)\n",
    "    \n",
    "    X_test = test_df[columnn_sets[i]].reset_index(drop=True)\n",
    "    y_pred = pipeline.predict_proba(X_test)[:,1]\n",
    "    predictions_df[f'pred_proba_{i}'] = y_pred"
   ]
  },
  {
   "cell_type": "code",
   "execution_count": 63,
   "metadata": {},
   "outputs": [
    {
     "data": {
      "text/html": [
       "<div>\n",
       "<style scoped>\n",
       "    .dataframe tbody tr th:only-of-type {\n",
       "        vertical-align: middle;\n",
       "    }\n",
       "\n",
       "    .dataframe tbody tr th {\n",
       "        vertical-align: top;\n",
       "    }\n",
       "\n",
       "    .dataframe thead th {\n",
       "        text-align: right;\n",
       "    }\n",
       "</style>\n",
       "<table border=\"1\" class=\"dataframe\">\n",
       "  <thead>\n",
       "    <tr style=\"text-align: right;\">\n",
       "      <th></th>\n",
       "      <th>Id</th>\n",
       "      <th>pred_proba_0</th>\n",
       "      <th>pred_proba_1</th>\n",
       "      <th>pred_proba_2</th>\n",
       "      <th>pred_proba</th>\n",
       "    </tr>\n",
       "  </thead>\n",
       "  <tbody>\n",
       "    <tr>\n",
       "      <th>0</th>\n",
       "      <td>1</td>\n",
       "      <td>0.133959</td>\n",
       "      <td>0.087829</td>\n",
       "      <td>0.121334</td>\n",
       "      <td>0.114374</td>\n",
       "    </tr>\n",
       "    <tr>\n",
       "      <th>1</th>\n",
       "      <td>2</td>\n",
       "      <td>0.043516</td>\n",
       "      <td>0.027758</td>\n",
       "      <td>0.041510</td>\n",
       "      <td>0.037595</td>\n",
       "    </tr>\n",
       "    <tr>\n",
       "      <th>2</th>\n",
       "      <td>3</td>\n",
       "      <td>0.188991</td>\n",
       "      <td>0.125566</td>\n",
       "      <td>0.160459</td>\n",
       "      <td>0.158339</td>\n",
       "    </tr>\n",
       "    <tr>\n",
       "      <th>3</th>\n",
       "      <td>9</td>\n",
       "      <td>0.035216</td>\n",
       "      <td>0.021330</td>\n",
       "      <td>0.030762</td>\n",
       "      <td>0.029102</td>\n",
       "    </tr>\n",
       "    <tr>\n",
       "      <th>4</th>\n",
       "      <td>10</td>\n",
       "      <td>0.010622</td>\n",
       "      <td>0.006421</td>\n",
       "      <td>0.009856</td>\n",
       "      <td>0.008966</td>\n",
       "    </tr>\n",
       "    <tr>\n",
       "      <th>...</th>\n",
       "      <td>...</td>\n",
       "      <td>...</td>\n",
       "      <td>...</td>\n",
       "      <td>...</td>\n",
       "      <td>...</td>\n",
       "    </tr>\n",
       "    <tr>\n",
       "      <th>43632</th>\n",
       "      <td>115071</td>\n",
       "      <td>0.007542</td>\n",
       "      <td>0.010884</td>\n",
       "      <td>0.001880</td>\n",
       "      <td>0.006769</td>\n",
       "    </tr>\n",
       "    <tr>\n",
       "      <th>43633</th>\n",
       "      <td>115072</td>\n",
       "      <td>0.037467</td>\n",
       "      <td>0.052441</td>\n",
       "      <td>0.008244</td>\n",
       "      <td>0.032717</td>\n",
       "    </tr>\n",
       "    <tr>\n",
       "      <th>43634</th>\n",
       "      <td>115078</td>\n",
       "      <td>0.024948</td>\n",
       "      <td>0.034460</td>\n",
       "      <td>0.005956</td>\n",
       "      <td>0.021788</td>\n",
       "    </tr>\n",
       "    <tr>\n",
       "      <th>43635</th>\n",
       "      <td>115079</td>\n",
       "      <td>0.007470</td>\n",
       "      <td>0.010472</td>\n",
       "      <td>0.001876</td>\n",
       "      <td>0.006606</td>\n",
       "    </tr>\n",
       "    <tr>\n",
       "      <th>43636</th>\n",
       "      <td>115080</td>\n",
       "      <td>0.037117</td>\n",
       "      <td>0.050537</td>\n",
       "      <td>0.008225</td>\n",
       "      <td>0.031959</td>\n",
       "    </tr>\n",
       "  </tbody>\n",
       "</table>\n",
       "<p>43637 rows × 5 columns</p>\n",
       "</div>"
      ],
      "text/plain": [
       "           Id  pred_proba_0  pred_proba_1  pred_proba_2  pred_proba\n",
       "0           1      0.133959      0.087829      0.121334    0.114374\n",
       "1           2      0.043516      0.027758      0.041510    0.037595\n",
       "2           3      0.188991      0.125566      0.160459    0.158339\n",
       "3           9      0.035216      0.021330      0.030762    0.029102\n",
       "4          10      0.010622      0.006421      0.009856    0.008966\n",
       "...       ...           ...           ...           ...         ...\n",
       "43632  115071      0.007542      0.010884      0.001880    0.006769\n",
       "43633  115072      0.037467      0.052441      0.008244    0.032717\n",
       "43634  115078      0.024948      0.034460      0.005956    0.021788\n",
       "43635  115079      0.007470      0.010472      0.001876    0.006606\n",
       "43636  115080      0.037117      0.050537      0.008225    0.031959\n",
       "\n",
       "[43637 rows x 5 columns]"
      ]
     },
     "execution_count": 63,
     "metadata": {},
     "output_type": "execute_result"
    }
   ],
   "source": [
    "predictions_df['pred_proba'] = predictions_df[['pred_proba_0', 'pred_proba_1','pred_proba_2']].mean(axis=1)\n",
    "predictions_df"
   ]
  },
  {
   "cell_type": "code",
   "execution_count": 64,
   "metadata": {},
   "outputs": [
    {
     "data": {
      "text/html": [
       "<div>\n",
       "<style scoped>\n",
       "    .dataframe tbody tr th:only-of-type {\n",
       "        vertical-align: middle;\n",
       "    }\n",
       "\n",
       "    .dataframe tbody tr th {\n",
       "        vertical-align: top;\n",
       "    }\n",
       "\n",
       "    .dataframe thead th {\n",
       "        text-align: right;\n",
       "    }\n",
       "</style>\n",
       "<table border=\"1\" class=\"dataframe\">\n",
       "  <thead>\n",
       "    <tr style=\"text-align: right;\">\n",
       "      <th></th>\n",
       "      <th>Id</th>\n",
       "      <th>WnvPresent</th>\n",
       "      <th>pred_proba_0</th>\n",
       "      <th>pred_proba_1</th>\n",
       "      <th>pred_proba_2</th>\n",
       "      <th>pred_proba</th>\n",
       "    </tr>\n",
       "  </thead>\n",
       "  <tbody>\n",
       "    <tr>\n",
       "      <th>0</th>\n",
       "      <td>1</td>\n",
       "      <td>0</td>\n",
       "      <td>0.133959</td>\n",
       "      <td>0.087829</td>\n",
       "      <td>0.121334</td>\n",
       "      <td>0.114374</td>\n",
       "    </tr>\n",
       "    <tr>\n",
       "      <th>1</th>\n",
       "      <td>2</td>\n",
       "      <td>0</td>\n",
       "      <td>0.043516</td>\n",
       "      <td>0.027758</td>\n",
       "      <td>0.041510</td>\n",
       "      <td>0.037595</td>\n",
       "    </tr>\n",
       "    <tr>\n",
       "      <th>2</th>\n",
       "      <td>3</td>\n",
       "      <td>0</td>\n",
       "      <td>0.188991</td>\n",
       "      <td>0.125566</td>\n",
       "      <td>0.160459</td>\n",
       "      <td>0.158339</td>\n",
       "    </tr>\n",
       "    <tr>\n",
       "      <th>3</th>\n",
       "      <td>4</td>\n",
       "      <td>0</td>\n",
       "      <td>0.000000</td>\n",
       "      <td>0.000000</td>\n",
       "      <td>0.000000</td>\n",
       "      <td>0.000000</td>\n",
       "    </tr>\n",
       "    <tr>\n",
       "      <th>4</th>\n",
       "      <td>5</td>\n",
       "      <td>0</td>\n",
       "      <td>0.000000</td>\n",
       "      <td>0.000000</td>\n",
       "      <td>0.000000</td>\n",
       "      <td>0.000000</td>\n",
       "    </tr>\n",
       "    <tr>\n",
       "      <th>...</th>\n",
       "      <td>...</td>\n",
       "      <td>...</td>\n",
       "      <td>...</td>\n",
       "      <td>...</td>\n",
       "      <td>...</td>\n",
       "      <td>...</td>\n",
       "    </tr>\n",
       "    <tr>\n",
       "      <th>116288</th>\n",
       "      <td>116289</td>\n",
       "      <td>0</td>\n",
       "      <td>0.000000</td>\n",
       "      <td>0.000000</td>\n",
       "      <td>0.000000</td>\n",
       "      <td>0.000000</td>\n",
       "    </tr>\n",
       "    <tr>\n",
       "      <th>116289</th>\n",
       "      <td>116290</td>\n",
       "      <td>0</td>\n",
       "      <td>0.000000</td>\n",
       "      <td>0.000000</td>\n",
       "      <td>0.000000</td>\n",
       "      <td>0.000000</td>\n",
       "    </tr>\n",
       "    <tr>\n",
       "      <th>116290</th>\n",
       "      <td>116291</td>\n",
       "      <td>0</td>\n",
       "      <td>0.000000</td>\n",
       "      <td>0.000000</td>\n",
       "      <td>0.000000</td>\n",
       "      <td>0.000000</td>\n",
       "    </tr>\n",
       "    <tr>\n",
       "      <th>116291</th>\n",
       "      <td>116292</td>\n",
       "      <td>0</td>\n",
       "      <td>0.000000</td>\n",
       "      <td>0.000000</td>\n",
       "      <td>0.000000</td>\n",
       "      <td>0.000000</td>\n",
       "    </tr>\n",
       "    <tr>\n",
       "      <th>116292</th>\n",
       "      <td>116293</td>\n",
       "      <td>0</td>\n",
       "      <td>0.000000</td>\n",
       "      <td>0.000000</td>\n",
       "      <td>0.000000</td>\n",
       "      <td>0.000000</td>\n",
       "    </tr>\n",
       "  </tbody>\n",
       "</table>\n",
       "<p>116293 rows × 6 columns</p>\n",
       "</div>"
      ],
      "text/plain": [
       "            Id  WnvPresent  pred_proba_0  pred_proba_1  pred_proba_2  \\\n",
       "0            1           0      0.133959      0.087829      0.121334   \n",
       "1            2           0      0.043516      0.027758      0.041510   \n",
       "2            3           0      0.188991      0.125566      0.160459   \n",
       "3            4           0      0.000000      0.000000      0.000000   \n",
       "4            5           0      0.000000      0.000000      0.000000   \n",
       "...        ...         ...           ...           ...           ...   \n",
       "116288  116289           0      0.000000      0.000000      0.000000   \n",
       "116289  116290           0      0.000000      0.000000      0.000000   \n",
       "116290  116291           0      0.000000      0.000000      0.000000   \n",
       "116291  116292           0      0.000000      0.000000      0.000000   \n",
       "116292  116293           0      0.000000      0.000000      0.000000   \n",
       "\n",
       "        pred_proba  \n",
       "0         0.114374  \n",
       "1         0.037595  \n",
       "2         0.158339  \n",
       "3         0.000000  \n",
       "4         0.000000  \n",
       "...            ...  \n",
       "116288    0.000000  \n",
       "116289    0.000000  \n",
       "116290    0.000000  \n",
       "116291    0.000000  \n",
       "116292    0.000000  \n",
       "\n",
       "[116293 rows x 6 columns]"
      ]
     },
     "execution_count": 64,
     "metadata": {},
     "output_type": "execute_result"
    }
   ],
   "source": [
    "results = pd.merge(sample, predictions_df, on='Id', how='outer').fillna(0)\n",
    "results"
   ]
  },
  {
   "cell_type": "code",
   "execution_count": 65,
   "metadata": {},
   "outputs": [],
   "source": [
    "results['WnvPresent'] = results['pred_proba']\n",
    "results.drop('pred_proba', axis=1, inplace=True)"
   ]
  },
  {
   "cell_type": "code",
   "execution_count": 70,
   "metadata": {},
   "outputs": [
    {
     "data": {
      "text/html": [
       "<div>\n",
       "<style scoped>\n",
       "    .dataframe tbody tr th:only-of-type {\n",
       "        vertical-align: middle;\n",
       "    }\n",
       "\n",
       "    .dataframe tbody tr th {\n",
       "        vertical-align: top;\n",
       "    }\n",
       "\n",
       "    .dataframe thead th {\n",
       "        text-align: right;\n",
       "    }\n",
       "</style>\n",
       "<table border=\"1\" class=\"dataframe\">\n",
       "  <thead>\n",
       "    <tr style=\"text-align: right;\">\n",
       "      <th></th>\n",
       "      <th>Id</th>\n",
       "      <th>WnvPresent</th>\n",
       "      <th>pred_proba_0</th>\n",
       "      <th>pred_proba_1</th>\n",
       "      <th>pred_proba_2</th>\n",
       "    </tr>\n",
       "  </thead>\n",
       "  <tbody>\n",
       "    <tr>\n",
       "      <th>0</th>\n",
       "      <td>1</td>\n",
       "      <td>0.114374</td>\n",
       "      <td>0.133959</td>\n",
       "      <td>0.087829</td>\n",
       "      <td>0.121334</td>\n",
       "    </tr>\n",
       "    <tr>\n",
       "      <th>1</th>\n",
       "      <td>2</td>\n",
       "      <td>0.037595</td>\n",
       "      <td>0.043516</td>\n",
       "      <td>0.027758</td>\n",
       "      <td>0.041510</td>\n",
       "    </tr>\n",
       "    <tr>\n",
       "      <th>2</th>\n",
       "      <td>3</td>\n",
       "      <td>0.158339</td>\n",
       "      <td>0.188991</td>\n",
       "      <td>0.125566</td>\n",
       "      <td>0.160459</td>\n",
       "    </tr>\n",
       "    <tr>\n",
       "      <th>3</th>\n",
       "      <td>4</td>\n",
       "      <td>0.000000</td>\n",
       "      <td>0.000000</td>\n",
       "      <td>0.000000</td>\n",
       "      <td>0.000000</td>\n",
       "    </tr>\n",
       "    <tr>\n",
       "      <th>4</th>\n",
       "      <td>5</td>\n",
       "      <td>0.000000</td>\n",
       "      <td>0.000000</td>\n",
       "      <td>0.000000</td>\n",
       "      <td>0.000000</td>\n",
       "    </tr>\n",
       "    <tr>\n",
       "      <th>...</th>\n",
       "      <td>...</td>\n",
       "      <td>...</td>\n",
       "      <td>...</td>\n",
       "      <td>...</td>\n",
       "      <td>...</td>\n",
       "    </tr>\n",
       "    <tr>\n",
       "      <th>116288</th>\n",
       "      <td>116289</td>\n",
       "      <td>0.000000</td>\n",
       "      <td>0.000000</td>\n",
       "      <td>0.000000</td>\n",
       "      <td>0.000000</td>\n",
       "    </tr>\n",
       "    <tr>\n",
       "      <th>116289</th>\n",
       "      <td>116290</td>\n",
       "      <td>0.000000</td>\n",
       "      <td>0.000000</td>\n",
       "      <td>0.000000</td>\n",
       "      <td>0.000000</td>\n",
       "    </tr>\n",
       "    <tr>\n",
       "      <th>116290</th>\n",
       "      <td>116291</td>\n",
       "      <td>0.000000</td>\n",
       "      <td>0.000000</td>\n",
       "      <td>0.000000</td>\n",
       "      <td>0.000000</td>\n",
       "    </tr>\n",
       "    <tr>\n",
       "      <th>116291</th>\n",
       "      <td>116292</td>\n",
       "      <td>0.000000</td>\n",
       "      <td>0.000000</td>\n",
       "      <td>0.000000</td>\n",
       "      <td>0.000000</td>\n",
       "    </tr>\n",
       "    <tr>\n",
       "      <th>116292</th>\n",
       "      <td>116293</td>\n",
       "      <td>0.000000</td>\n",
       "      <td>0.000000</td>\n",
       "      <td>0.000000</td>\n",
       "      <td>0.000000</td>\n",
       "    </tr>\n",
       "  </tbody>\n",
       "</table>\n",
       "<p>116293 rows × 5 columns</p>\n",
       "</div>"
      ],
      "text/plain": [
       "            Id  WnvPresent  pred_proba_0  pred_proba_1  pred_proba_2\n",
       "0            1    0.114374      0.133959      0.087829      0.121334\n",
       "1            2    0.037595      0.043516      0.027758      0.041510\n",
       "2            3    0.158339      0.188991      0.125566      0.160459\n",
       "3            4    0.000000      0.000000      0.000000      0.000000\n",
       "4            5    0.000000      0.000000      0.000000      0.000000\n",
       "...        ...         ...           ...           ...           ...\n",
       "116288  116289    0.000000      0.000000      0.000000      0.000000\n",
       "116289  116290    0.000000      0.000000      0.000000      0.000000\n",
       "116290  116291    0.000000      0.000000      0.000000      0.000000\n",
       "116291  116292    0.000000      0.000000      0.000000      0.000000\n",
       "116292  116293    0.000000      0.000000      0.000000      0.000000\n",
       "\n",
       "[116293 rows x 5 columns]"
      ]
     },
     "execution_count": 70,
     "metadata": {},
     "output_type": "execute_result"
    }
   ],
   "source": [
    "results = "
   ]
  },
  {
   "cell_type": "code",
   "execution_count": 71,
   "metadata": {},
   "outputs": [],
   "source": [
    "results[['Id', 'WnvPresent']].to_csv('../data/submission/test_results.csv', index=False)"
   ]
  },
  {
   "cell_type": "code",
   "execution_count": 72,
   "metadata": {},
   "outputs": [
    {
     "name": "stderr",
     "output_type": "stream",
     "text": [
      "100%|██████████| 1.80M/1.80M [00:01<00:00, 1.15MB/s]\n"
     ]
    },
    {
     "data": {
      "text/plain": [
       "Successfully submitted to West Nile Virus Prediction"
      ]
     },
     "execution_count": 72,
     "metadata": {},
     "output_type": "execute_result"
    }
   ],
   "source": [
    "api.competition_submit('../data/submission/test_results.csv', 'test_3lr', 'predict-west-nile-virus')"
   ]
  },
  {
   "cell_type": "code",
   "execution_count": 73,
   "metadata": {},
   "outputs": [
    {
     "data": {
      "text/plain": [
       "'0.67276'"
      ]
     },
     "execution_count": 73,
     "metadata": {},
     "output_type": "execute_result"
    }
   ],
   "source": [
    "api.competitions_submissions_list(id='predict-west-nile-virus')[0]['privateScore']"
   ]
  },
  {
   "cell_type": "code",
   "execution_count": null,
   "metadata": {},
   "outputs": [],
   "source": []
  }
 ],
 "metadata": {
  "kernelspec": {
   "display_name": ".venv",
   "language": "python",
   "name": "python3"
  },
  "language_info": {
   "codemirror_mode": {
    "name": "ipython",
    "version": 3
   },
   "file_extension": ".py",
   "mimetype": "text/x-python",
   "name": "python",
   "nbconvert_exporter": "python",
   "pygments_lexer": "ipython3",
   "version": "3.10.12"
  }
 },
 "nbformat": 4,
 "nbformat_minor": 2
}
