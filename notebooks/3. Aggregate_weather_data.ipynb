{
 "cells": [
  {
   "cell_type": "code",
   "execution_count": 2,
   "metadata": {},
   "outputs": [],
   "source": [
    "import pandas as pd\n",
    "\n",
    "from src.paths import PREPROCESSED_DATA_DIR"
   ]
  },
  {
   "cell_type": "code",
   "execution_count": 36,
   "metadata": {},
   "outputs": [
    {
     "name": "stdout",
     "output_type": "stream",
     "text": [
      "Columns: ['Date', 'Tmax_1', 'Tmin_1', 'Tavg_1', 'DewPoint_1', 'WetBulb_1', 'PrecipTotal_1', 'Tmax_2', 'Tmin_2', 'Tavg_2', 'DewPoint_2', 'WetBulb_2', 'PrecipTotal_2']\n"
     ]
    }
   ],
   "source": [
    "df_weather = pd.read_pickle(PREPROCESSED_DATA_DIR / 'clean_weather.pkl')\n",
    "print(f'Columns: {df_weather.columns.to_list()}')"
   ]
  },
  {
   "cell_type": "code",
   "execution_count": 37,
   "metadata": {},
   "outputs": [],
   "source": [
    "df_weather.set_index('Date', inplace=True)"
   ]
  },
  {
   "cell_type": "code",
   "execution_count": 47,
   "metadata": {},
   "outputs": [],
   "source": [
    "def flatten_index(df):\n",
    "    df.columns = [c[0]+'_'+c[1] for c in df.columns.to_flat_index()]\n",
    "\n",
    "def add_lag_window(df, lag, window):\n",
    "    df.columns = ['_'.join([c,str(lag),str(window)]) for c in df.columns]\n",
    "    \n",
    "def aggregate_columns(df):\n",
    "    df_agg = pd.DataFrame(index=df.index)\n",
    "    for lag in range(1, 30):\n",
    "        for window in range(1,30):\n",
    "            df_one = df.shift(lag).rolling(window).agg(['sum', 'mean'])\n",
    "            flatten_index(df_one)\n",
    "            add_lag_window(df_one, lag, window)\n",
    "            df_agg = pd.concat([df_agg, df_one], axis=1).dropna()\n",
    "    return df_agg\n",
    "\n",
    "\n",
    "df_agg = aggregate_columns(df_weather)"
   ]
  },
  {
   "cell_type": "code",
   "execution_count": 49,
   "metadata": {},
   "outputs": [],
   "source": [
    "df_agg.to_pickle(PREPROCESSED_DATA_DIR / 'aggregated_weather_all.pkl')"
   ]
  },
  {
   "cell_type": "code",
   "execution_count": null,
   "metadata": {},
   "outputs": [],
   "source": []
  }
 ],
 "metadata": {
  "kernelspec": {
   "display_name": ".venv",
   "language": "python",
   "name": "python3"
  },
  "language_info": {
   "codemirror_mode": {
    "name": "ipython",
    "version": 3
   },
   "file_extension": ".py",
   "mimetype": "text/x-python",
   "name": "python",
   "nbconvert_exporter": "python",
   "pygments_lexer": "ipython3",
   "version": "3.10.12"
  }
 },
 "nbformat": 4,
 "nbformat_minor": 2
}
