{
 "cells": [
  {
   "cell_type": "code",
   "execution_count": 9,
   "metadata": {},
   "outputs": [],
   "source": [
    "import pandas as pd\n",
    "from src.paths import RAW_DATA_DIR, PREPROCESSED_DATA_DIR\n",
    "\n",
    "import warnings\n",
    "warnings.filterwarnings('ignore')"
   ]
  },
  {
   "cell_type": "code",
   "execution_count": 18,
   "metadata": {},
   "outputs": [
    {
     "name": "stdout",
     "output_type": "stream",
     "text": [
      "\n",
      "---TRAIN DATA---\n",
      "Number of rows: 10506\n",
      "Columns: ['Date', 'Address', 'Species', 'Block', 'Street', 'Trap', 'AddressNumberAndStreet', 'Latitude', 'Longitude', 'AddressAccuracy', 'NumMosquitos', 'WnvPresent']\n",
      "\n",
      "---TEST DATA---\n",
      "Number of rows: 116293\n",
      "Columns: ['Id', 'Date', 'Address', 'Species', 'Block', 'Street', 'Trap', 'AddressNumberAndStreet', 'Latitude', 'Longitude', 'AddressAccuracy']\n",
      "\n",
      "data_train\n",
      "\tNumber of nan: 0\n",
      "data_test\n",
      "\tNumber of nan: 0\n"
     ]
    }
   ],
   "source": [
    "data_train = pd.read_csv(RAW_DATA_DIR / 'train.csv')\n",
    "data_test = pd.read_csv(RAW_DATA_DIR / 'test.csv')\n",
    "\n",
    "print(f'\\n---TRAIN DATA---\\nNumber of rows: {data_train.shape[0]}\\nColumns: {data_train.columns.to_list()}')\n",
    "print(f'\\n---TEST DATA---\\nNumber of rows: {data_test.shape[0]}\\nColumns: {data_test.columns.to_list()}\\n')\n",
    "\n",
    "dfs = {\n",
    "    'data_train': data_train,\n",
    "    'data_test': data_test\n",
    "}\n",
    "\n",
    "for df_name in dfs.keys():\n",
    "    print(df_name)\n",
    "    print(f'\\tNumber of nan: {dfs[df_name].isna().sum().sum()}')"
   ]
  },
  {
   "cell_type": "code",
   "execution_count": 19,
   "metadata": {},
   "outputs": [],
   "source": [
    "basic_features = ['Date', 'Trap', 'Species', 'Latitude', 'Longitude']  \n",
    "data_train = data_train[basic_features + ['WnvPresent']]\n",
    "data_test = data_test[basic_features + ['Id']]\n",
    "\n",
    "data_train.Date = pd.to_datetime(data_train.Date)\n",
    "data_test.Date = pd.to_datetime(data_test.Date)"
   ]
  },
  {
   "cell_type": "code",
   "execution_count": 20,
   "metadata": {},
   "outputs": [
    {
     "data": {
      "text/html": [
       "<div>\n",
       "<style scoped>\n",
       "    .dataframe tbody tr th:only-of-type {\n",
       "        vertical-align: middle;\n",
       "    }\n",
       "\n",
       "    .dataframe tbody tr th {\n",
       "        vertical-align: top;\n",
       "    }\n",
       "\n",
       "    .dataframe thead th {\n",
       "        text-align: right;\n",
       "    }\n",
       "</style>\n",
       "<table border=\"1\" class=\"dataframe\">\n",
       "  <thead>\n",
       "    <tr style=\"text-align: right;\">\n",
       "      <th></th>\n",
       "      <th>count</th>\n",
       "      <th>wnv_present_cnt</th>\n",
       "      <th>wnv_present_pct</th>\n",
       "    </tr>\n",
       "    <tr>\n",
       "      <th>Species</th>\n",
       "      <th></th>\n",
       "      <th></th>\n",
       "      <th></th>\n",
       "    </tr>\n",
       "  </thead>\n",
       "  <tbody>\n",
       "    <tr>\n",
       "      <th>CULEX PIPIENS/RESTUANS</th>\n",
       "      <td>4752</td>\n",
       "      <td>262</td>\n",
       "      <td>5.51</td>\n",
       "    </tr>\n",
       "    <tr>\n",
       "      <th>CULEX RESTUANS</th>\n",
       "      <td>2740</td>\n",
       "      <td>49</td>\n",
       "      <td>1.79</td>\n",
       "    </tr>\n",
       "    <tr>\n",
       "      <th>CULEX PIPIENS</th>\n",
       "      <td>2699</td>\n",
       "      <td>240</td>\n",
       "      <td>8.89</td>\n",
       "    </tr>\n",
       "    <tr>\n",
       "      <th>CULEX TERRITANS</th>\n",
       "      <td>222</td>\n",
       "      <td>0</td>\n",
       "      <td>0.00</td>\n",
       "    </tr>\n",
       "    <tr>\n",
       "      <th>CULEX SALINARIUS</th>\n",
       "      <td>86</td>\n",
       "      <td>0</td>\n",
       "      <td>0.00</td>\n",
       "    </tr>\n",
       "    <tr>\n",
       "      <th>CULEX TARSALIS</th>\n",
       "      <td>6</td>\n",
       "      <td>0</td>\n",
       "      <td>0.00</td>\n",
       "    </tr>\n",
       "    <tr>\n",
       "      <th>CULEX ERRATICUS</th>\n",
       "      <td>1</td>\n",
       "      <td>0</td>\n",
       "      <td>0.00</td>\n",
       "    </tr>\n",
       "  </tbody>\n",
       "</table>\n",
       "</div>"
      ],
      "text/plain": [
       "                        count  wnv_present_cnt  wnv_present_pct\n",
       "Species                                                        \n",
       "CULEX PIPIENS/RESTUANS   4752              262             5.51\n",
       "CULEX RESTUANS           2740               49             1.79\n",
       "CULEX PIPIENS            2699              240             8.89\n",
       "CULEX TERRITANS           222                0             0.00\n",
       "CULEX SALINARIUS           86                0             0.00\n",
       "CULEX TARSALIS              6                0             0.00\n",
       "CULEX ERRATICUS             1                0             0.00"
      ]
     },
     "execution_count": 20,
     "metadata": {},
     "output_type": "execute_result"
    }
   ],
   "source": [
    "species = data_train.Species.value_counts().to_frame()\n",
    "species['wnv_present_cnt'] = data_train.groupby('Species').WnvPresent.sum()\n",
    "species['wnv_present_pct'] = data_train.groupby('Species').WnvPresent.mean().round(4)*100\n",
    "species"
   ]
  },
  {
   "cell_type": "code",
   "execution_count": 21,
   "metadata": {},
   "outputs": [],
   "source": [
    "possible_species = list(species[species.wnv_present_cnt!=0].index)\n",
    "data_train = data_train[data_train.Species.isin(possible_species)]\n",
    "data_test = data_test[data_test.Species.isin(possible_species)]\n",
    "\n",
    "species2index = {\n",
    "    possible_species[i]: i for i in range(len(possible_species))\n",
    "}\n",
    "\n",
    "data_train.Species = data_train.Species.map(species2index)\n",
    "data_test.Species = data_test.Species.map(species2index)"
   ]
  },
  {
   "cell_type": "code",
   "execution_count": 28,
   "metadata": {},
   "outputs": [],
   "source": [
    "def split_date(df):\n",
    "    df['Month'] = df['Date'].dt.month\n",
    "    df['Year'] = df['Date'].dt.year\n",
    "    df['Week'] = df.Date.dt.isocalendar().week\n",
    "    df['Dayofweek'] = df['Date'].dt.dayofweek\n",
    "    df['Dayofyear'] = df['Date'].dt.dayofyear\n",
    "\n",
    "split_date(data_train)\n",
    "split_date(data_test)"
   ]
  },
  {
   "cell_type": "code",
   "execution_count": 29,
   "metadata": {},
   "outputs": [
    {
     "data": {
      "text/html": [
       "<div>\n",
       "<style scoped>\n",
       "    .dataframe tbody tr th:only-of-type {\n",
       "        vertical-align: middle;\n",
       "    }\n",
       "\n",
       "    .dataframe tbody tr th {\n",
       "        vertical-align: top;\n",
       "    }\n",
       "\n",
       "    .dataframe thead th {\n",
       "        text-align: right;\n",
       "    }\n",
       "</style>\n",
       "<table border=\"1\" class=\"dataframe\">\n",
       "  <thead>\n",
       "    <tr style=\"text-align: right;\">\n",
       "      <th></th>\n",
       "      <th>positive_cases</th>\n",
       "      <th>percent</th>\n",
       "    </tr>\n",
       "    <tr>\n",
       "      <th>Month</th>\n",
       "      <th></th>\n",
       "      <th></th>\n",
       "    </tr>\n",
       "  </thead>\n",
       "  <tbody>\n",
       "    <tr>\n",
       "      <th>5</th>\n",
       "      <td>0</td>\n",
       "      <td>0.00</td>\n",
       "    </tr>\n",
       "    <tr>\n",
       "      <th>6</th>\n",
       "      <td>1</td>\n",
       "      <td>0.07</td>\n",
       "    </tr>\n",
       "    <tr>\n",
       "      <th>7</th>\n",
       "      <td>46</td>\n",
       "      <td>1.82</td>\n",
       "    </tr>\n",
       "    <tr>\n",
       "      <th>8</th>\n",
       "      <td>377</td>\n",
       "      <td>10.36</td>\n",
       "    </tr>\n",
       "    <tr>\n",
       "      <th>9</th>\n",
       "      <td>125</td>\n",
       "      <td>5.82</td>\n",
       "    </tr>\n",
       "    <tr>\n",
       "      <th>10</th>\n",
       "      <td>2</td>\n",
       "      <td>0.76</td>\n",
       "    </tr>\n",
       "  </tbody>\n",
       "</table>\n",
       "</div>"
      ],
      "text/plain": [
       "       positive_cases  percent\n",
       "Month                         \n",
       "5                   0     0.00\n",
       "6                   1     0.07\n",
       "7                  46     1.82\n",
       "8                 377    10.36\n",
       "9                 125     5.82\n",
       "10                  2     0.76"
      ]
     },
     "metadata": {},
     "output_type": "display_data"
    },
    {
     "data": {
      "text/html": [
       "<div>\n",
       "<style scoped>\n",
       "    .dataframe tbody tr th:only-of-type {\n",
       "        vertical-align: middle;\n",
       "    }\n",
       "\n",
       "    .dataframe tbody tr th {\n",
       "        vertical-align: top;\n",
       "    }\n",
       "\n",
       "    .dataframe thead th {\n",
       "        text-align: right;\n",
       "    }\n",
       "</style>\n",
       "<table border=\"1\" class=\"dataframe\">\n",
       "  <thead>\n",
       "    <tr style=\"text-align: right;\">\n",
       "      <th></th>\n",
       "      <th>positive_cases</th>\n",
       "      <th>percent</th>\n",
       "    </tr>\n",
       "    <tr>\n",
       "      <th>Year</th>\n",
       "      <th></th>\n",
       "      <th></th>\n",
       "    </tr>\n",
       "  </thead>\n",
       "  <tbody>\n",
       "    <tr>\n",
       "      <th>2007</th>\n",
       "      <td>236</td>\n",
       "      <td>6.45</td>\n",
       "    </tr>\n",
       "    <tr>\n",
       "      <th>2009</th>\n",
       "      <td>19</td>\n",
       "      <td>0.86</td>\n",
       "    </tr>\n",
       "    <tr>\n",
       "      <th>2011</th>\n",
       "      <td>57</td>\n",
       "      <td>2.94</td>\n",
       "    </tr>\n",
       "    <tr>\n",
       "      <th>2013</th>\n",
       "      <td>239</td>\n",
       "      <td>10.04</td>\n",
       "    </tr>\n",
       "  </tbody>\n",
       "</table>\n",
       "</div>"
      ],
      "text/plain": [
       "      positive_cases  percent\n",
       "Year                         \n",
       "2007             236     6.45\n",
       "2009              19     0.86\n",
       "2011              57     2.94\n",
       "2013             239    10.04"
      ]
     },
     "execution_count": 29,
     "metadata": {},
     "output_type": "execute_result"
    }
   ],
   "source": [
    "display(data_train.groupby(['Month']).agg(\n",
    "            positive_cases = ('WnvPresent','sum'),\n",
    "            percent = ('WnvPresent',lambda x: (x.mean()*100).round(2))\n",
    "            )\n",
    ")\n",
    "data_train.groupby(['Year']).agg(\n",
    "    positive_cases = ('WnvPresent','sum'),\n",
    "    percent = ('WnvPresent',lambda x: (x.mean()*100).round(2))\n",
    ")"
   ]
  },
  {
   "cell_type": "code",
   "execution_count": 30,
   "metadata": {},
   "outputs": [],
   "source": [
    "possible_months = [7,8,9]\n",
    "data_train = data_train[data_train.Month.isin(possible_months)]\n",
    "data_test = data_test[data_test.Month.isin(possible_months)]"
   ]
  },
  {
   "cell_type": "code",
   "execution_count": 31,
   "metadata": {},
   "outputs": [],
   "source": [
    "possible_traps = data_train[data_train.WnvPresent!=0].Trap.unique()\n",
    "data_train = data_train[data_train.Trap.isin(possible_traps)]\n",
    "data_test = data_test[data_test.Trap.isin(possible_traps)]"
   ]
  },
  {
   "cell_type": "code",
   "execution_count": 32,
   "metadata": {},
   "outputs": [
    {
     "data": {
      "text/plain": [
       "WnvPresent\n",
       "0    6880\n",
       "1     548\n",
       "Name: count, dtype: int64"
      ]
     },
     "execution_count": 32,
     "metadata": {},
     "output_type": "execute_result"
    }
   ],
   "source": [
    "data_train.WnvPresent.value_counts()"
   ]
  },
  {
   "cell_type": "code",
   "execution_count": null,
   "metadata": {},
   "outputs": [],
   "source": []
  }
 ],
 "metadata": {
  "kernelspec": {
   "display_name": ".venv",
   "language": "python",
   "name": "python3"
  },
  "language_info": {
   "codemirror_mode": {
    "name": "ipython",
    "version": 3
   },
   "file_extension": ".py",
   "mimetype": "text/x-python",
   "name": "python",
   "nbconvert_exporter": "python",
   "pygments_lexer": "ipython3",
   "version": "3.10.12"
  }
 },
 "nbformat": 4,
 "nbformat_minor": 2
}
