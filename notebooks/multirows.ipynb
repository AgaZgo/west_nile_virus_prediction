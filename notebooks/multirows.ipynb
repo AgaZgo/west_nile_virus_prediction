{
 "cells": [
  {
   "cell_type": "code",
   "execution_count": 1,
   "metadata": {},
   "outputs": [],
   "source": [
    "from src.data import read_raw_data\n",
    "\n",
    "\n",
    "data = read_raw_data()"
   ]
  },
  {
   "cell_type": "code",
   "execution_count": 2,
   "metadata": {},
   "outputs": [
    {
     "data": {
      "text/plain": [
       "((116293, 3), (113240, 3))"
      ]
     },
     "execution_count": 2,
     "metadata": {},
     "output_type": "execute_result"
    }
   ],
   "source": [
    "data['test'][['Date', 'Trap', 'Species']].shape, data['test'][['Date', 'Trap', 'Species']].drop_duplicates().shape"
   ]
  },
  {
   "cell_type": "code",
   "execution_count": 3,
   "metadata": {},
   "outputs": [
    {
     "data": {
      "text/html": [
       "<div>\n",
       "<style scoped>\n",
       "    .dataframe tbody tr th:only-of-type {\n",
       "        vertical-align: middle;\n",
       "    }\n",
       "\n",
       "    .dataframe tbody tr th {\n",
       "        vertical-align: top;\n",
       "    }\n",
       "\n",
       "    .dataframe thead th {\n",
       "        text-align: right;\n",
       "    }\n",
       "</style>\n",
       "<table border=\"1\" class=\"dataframe\">\n",
       "  <thead>\n",
       "    <tr style=\"text-align: right;\">\n",
       "      <th></th>\n",
       "      <th>Date</th>\n",
       "      <th>Trap</th>\n",
       "      <th>Species</th>\n",
       "      <th>Id</th>\n",
       "    </tr>\n",
       "  </thead>\n",
       "  <tbody>\n",
       "    <tr>\n",
       "      <th>75065</th>\n",
       "      <td>2012-07-20</td>\n",
       "      <td>T237</td>\n",
       "      <td>CULEX PIPIENS</td>\n",
       "      <td>1</td>\n",
       "    </tr>\n",
       "    <tr>\n",
       "      <th>75078</th>\n",
       "      <td>2012-07-20</td>\n",
       "      <td>T238</td>\n",
       "      <td>CULEX TERRITANS</td>\n",
       "      <td>1</td>\n",
       "    </tr>\n",
       "    <tr>\n",
       "      <th>75077</th>\n",
       "      <td>2012-07-20</td>\n",
       "      <td>T238</td>\n",
       "      <td>CULEX TARSALIS</td>\n",
       "      <td>1</td>\n",
       "    </tr>\n",
       "    <tr>\n",
       "      <th>75076</th>\n",
       "      <td>2012-07-20</td>\n",
       "      <td>T238</td>\n",
       "      <td>CULEX SALINARIUS</td>\n",
       "      <td>1</td>\n",
       "    </tr>\n",
       "    <tr>\n",
       "      <th>75075</th>\n",
       "      <td>2012-07-20</td>\n",
       "      <td>T238</td>\n",
       "      <td>CULEX RESTUANS</td>\n",
       "      <td>1</td>\n",
       "    </tr>\n",
       "    <tr>\n",
       "      <th>...</th>\n",
       "      <td>...</td>\n",
       "      <td>...</td>\n",
       "      <td>...</td>\n",
       "      <td>...</td>\n",
       "    </tr>\n",
       "    <tr>\n",
       "      <th>79850</th>\n",
       "      <td>2012-08-10</td>\n",
       "      <td>T900</td>\n",
       "      <td>CULEX PIPIENS/RESTUANS</td>\n",
       "      <td>13</td>\n",
       "    </tr>\n",
       "    <tr>\n",
       "      <th>72882</th>\n",
       "      <td>2012-07-19</td>\n",
       "      <td>T027</td>\n",
       "      <td>CULEX PIPIENS/RESTUANS</td>\n",
       "      <td>16</td>\n",
       "    </tr>\n",
       "    <tr>\n",
       "      <th>42898</th>\n",
       "      <td>2010-07-19</td>\n",
       "      <td>T900</td>\n",
       "      <td>CULEX PIPIENS/RESTUANS</td>\n",
       "      <td>21</td>\n",
       "    </tr>\n",
       "    <tr>\n",
       "      <th>20250</th>\n",
       "      <td>2008-08-19</td>\n",
       "      <td>T900</td>\n",
       "      <td>CULEX PIPIENS/RESTUANS</td>\n",
       "      <td>23</td>\n",
       "    </tr>\n",
       "    <tr>\n",
       "      <th>77466</th>\n",
       "      <td>2012-08-03</td>\n",
       "      <td>T900</td>\n",
       "      <td>CULEX PIPIENS/RESTUANS</td>\n",
       "      <td>26</td>\n",
       "    </tr>\n",
       "  </tbody>\n",
       "</table>\n",
       "<p>113240 rows × 4 columns</p>\n",
       "</div>"
      ],
      "text/plain": [
       "             Date  Trap                 Species  Id\n",
       "75065  2012-07-20  T237           CULEX PIPIENS   1\n",
       "75078  2012-07-20  T238         CULEX TERRITANS   1\n",
       "75077  2012-07-20  T238          CULEX TARSALIS   1\n",
       "75076  2012-07-20  T238        CULEX SALINARIUS   1\n",
       "75075  2012-07-20  T238          CULEX RESTUANS   1\n",
       "...           ...   ...                     ...  ..\n",
       "79850  2012-08-10  T900  CULEX PIPIENS/RESTUANS  13\n",
       "72882  2012-07-19  T027  CULEX PIPIENS/RESTUANS  16\n",
       "42898  2010-07-19  T900  CULEX PIPIENS/RESTUANS  21\n",
       "20250  2008-08-19  T900  CULEX PIPIENS/RESTUANS  23\n",
       "77466  2012-08-03  T900  CULEX PIPIENS/RESTUANS  26\n",
       "\n",
       "[113240 rows x 4 columns]"
      ]
     },
     "execution_count": 3,
     "metadata": {},
     "output_type": "execute_result"
    }
   ],
   "source": [
    "multirows_test = data['test'].groupby(['Date', 'Trap', 'Species']).Id.count().reset_index().sort_values(by='Id')\n",
    "multirows_test"
   ]
  },
  {
   "cell_type": "code",
   "execution_count": 4,
   "metadata": {},
   "outputs": [
    {
     "data": {
      "text/html": [
       "<div>\n",
       "<style scoped>\n",
       "    .dataframe tbody tr th:only-of-type {\n",
       "        vertical-align: middle;\n",
       "    }\n",
       "\n",
       "    .dataframe tbody tr th {\n",
       "        vertical-align: top;\n",
       "    }\n",
       "\n",
       "    .dataframe thead th {\n",
       "        text-align: right;\n",
       "    }\n",
       "</style>\n",
       "<table border=\"1\" class=\"dataframe\">\n",
       "  <thead>\n",
       "    <tr style=\"text-align: right;\">\n",
       "      <th></th>\n",
       "      <th>Date</th>\n",
       "      <th>Trap</th>\n",
       "      <th>Species</th>\n",
       "      <th>NumMosquitos</th>\n",
       "    </tr>\n",
       "  </thead>\n",
       "  <tbody>\n",
       "    <tr>\n",
       "      <th>5536</th>\n",
       "      <td>2011-08-05</td>\n",
       "      <td>T008</td>\n",
       "      <td>CULEX PIPIENS/RESTUANS</td>\n",
       "      <td>1</td>\n",
       "    </tr>\n",
       "    <tr>\n",
       "      <th>5551</th>\n",
       "      <td>2011-08-05</td>\n",
       "      <td>T031</td>\n",
       "      <td>CULEX TERRITANS</td>\n",
       "      <td>1</td>\n",
       "    </tr>\n",
       "    <tr>\n",
       "      <th>5550</th>\n",
       "      <td>2011-08-05</td>\n",
       "      <td>T031</td>\n",
       "      <td>CULEX RESTUANS</td>\n",
       "      <td>1</td>\n",
       "    </tr>\n",
       "    <tr>\n",
       "      <th>5549</th>\n",
       "      <td>2011-08-05</td>\n",
       "      <td>T031</td>\n",
       "      <td>CULEX PIPIENS/RESTUANS</td>\n",
       "      <td>1</td>\n",
       "    </tr>\n",
       "    <tr>\n",
       "      <th>5548</th>\n",
       "      <td>2011-08-05</td>\n",
       "      <td>T030</td>\n",
       "      <td>CULEX RESTUANS</td>\n",
       "      <td>1</td>\n",
       "    </tr>\n",
       "    <tr>\n",
       "      <th>...</th>\n",
       "      <td>...</td>\n",
       "      <td>...</td>\n",
       "      <td>...</td>\n",
       "      <td>...</td>\n",
       "    </tr>\n",
       "    <tr>\n",
       "      <th>1196</th>\n",
       "      <td>2007-08-08</td>\n",
       "      <td>T138</td>\n",
       "      <td>CULEX PIPIENS</td>\n",
       "      <td>34</td>\n",
       "    </tr>\n",
       "    <tr>\n",
       "      <th>3197</th>\n",
       "      <td>2009-06-22</td>\n",
       "      <td>T900</td>\n",
       "      <td>CULEX PIPIENS/RESTUANS</td>\n",
       "      <td>34</td>\n",
       "    </tr>\n",
       "    <tr>\n",
       "      <th>1901</th>\n",
       "      <td>2007-08-28</td>\n",
       "      <td>T115</td>\n",
       "      <td>CULEX PIPIENS</td>\n",
       "      <td>45</td>\n",
       "    </tr>\n",
       "    <tr>\n",
       "      <th>565</th>\n",
       "      <td>2007-07-25</td>\n",
       "      <td>T115</td>\n",
       "      <td>CULEX PIPIENS</td>\n",
       "      <td>49</td>\n",
       "    </tr>\n",
       "    <tr>\n",
       "      <th>1450</th>\n",
       "      <td>2007-08-16</td>\n",
       "      <td>T115</td>\n",
       "      <td>CULEX PIPIENS</td>\n",
       "      <td>51</td>\n",
       "    </tr>\n",
       "  </tbody>\n",
       "</table>\n",
       "<p>8475 rows × 4 columns</p>\n",
       "</div>"
      ],
      "text/plain": [
       "            Date  Trap                 Species  NumMosquitos\n",
       "5536  2011-08-05  T008  CULEX PIPIENS/RESTUANS             1\n",
       "5551  2011-08-05  T031         CULEX TERRITANS             1\n",
       "5550  2011-08-05  T031          CULEX RESTUANS             1\n",
       "5549  2011-08-05  T031  CULEX PIPIENS/RESTUANS             1\n",
       "5548  2011-08-05  T030          CULEX RESTUANS             1\n",
       "...          ...   ...                     ...           ...\n",
       "1196  2007-08-08  T138           CULEX PIPIENS            34\n",
       "3197  2009-06-22  T900  CULEX PIPIENS/RESTUANS            34\n",
       "1901  2007-08-28  T115           CULEX PIPIENS            45\n",
       "565   2007-07-25  T115           CULEX PIPIENS            49\n",
       "1450  2007-08-16  T115           CULEX PIPIENS            51\n",
       "\n",
       "[8475 rows x 4 columns]"
      ]
     },
     "execution_count": 4,
     "metadata": {},
     "output_type": "execute_result"
    }
   ],
   "source": [
    "multirows_train = data['train'].groupby(['Date', 'Trap', 'Species']).NumMosquitos.count().reset_index().sort_values(by='NumMosquitos')\n",
    "multirows_train"
   ]
  },
  {
   "cell_type": "code",
   "execution_count": 5,
   "metadata": {},
   "outputs": [
    {
     "data": {
      "text/plain": [
       "Id\n",
       "1     111098\n",
       "2       1847\n",
       "3        105\n",
       "4         61\n",
       "5         38\n",
       "6         27\n",
       "7         24\n",
       "8         14\n",
       "10        10\n",
       "9          7\n",
       "13         3\n",
       "11         2\n",
       "16         1\n",
       "21         1\n",
       "23         1\n",
       "26         1\n",
       "Name: count, dtype: int64"
      ]
     },
     "execution_count": 5,
     "metadata": {},
     "output_type": "execute_result"
    }
   ],
   "source": [
    "multirows_test.Id.value_counts()"
   ]
  },
  {
   "cell_type": "code",
   "execution_count": 6,
   "metadata": {},
   "outputs": [
    {
     "data": {
      "text/plain": [
       "NumMosquitos\n",
       "1     7720\n",
       "2      459\n",
       "3      112\n",
       "4       46\n",
       "5       41\n",
       "6       21\n",
       "7       20\n",
       "8       15\n",
       "9        6\n",
       "10       6\n",
       "11       6\n",
       "13       2\n",
       "34       2\n",
       "14       2\n",
       "17       2\n",
       "20       2\n",
       "32       2\n",
       "12       1\n",
       "16       1\n",
       "18       1\n",
       "22       1\n",
       "19       1\n",
       "27       1\n",
       "25       1\n",
       "33       1\n",
       "45       1\n",
       "49       1\n",
       "51       1\n",
       "Name: count, dtype: int64"
      ]
     },
     "execution_count": 6,
     "metadata": {},
     "output_type": "execute_result"
    }
   ],
   "source": [
    "multirows_train.NumMosquitos.value_counts()"
   ]
  },
  {
   "cell_type": "code",
   "execution_count": 7,
   "metadata": {},
   "outputs": [
    {
     "data": {
      "text/html": [
       "<div>\n",
       "<style scoped>\n",
       "    .dataframe tbody tr th:only-of-type {\n",
       "        vertical-align: middle;\n",
       "    }\n",
       "\n",
       "    .dataframe tbody tr th {\n",
       "        vertical-align: top;\n",
       "    }\n",
       "\n",
       "    .dataframe thead th {\n",
       "        text-align: right;\n",
       "    }\n",
       "</style>\n",
       "<table border=\"1\" class=\"dataframe\">\n",
       "  <thead>\n",
       "    <tr style=\"text-align: right;\">\n",
       "      <th></th>\n",
       "      <th></th>\n",
       "      <th></th>\n",
       "      <th>NumRows</th>\n",
       "      <th>NumMosquitos</th>\n",
       "    </tr>\n",
       "    <tr>\n",
       "      <th>Date</th>\n",
       "      <th>Trap</th>\n",
       "      <th>Species</th>\n",
       "      <th></th>\n",
       "      <th></th>\n",
       "    </tr>\n",
       "  </thead>\n",
       "  <tbody>\n",
       "    <tr>\n",
       "      <th rowspan=\"5\" valign=\"top\">2007-05-29</th>\n",
       "      <th rowspan=\"2\" valign=\"top\">T002</th>\n",
       "      <th>CULEX PIPIENS/RESTUANS</th>\n",
       "      <td>1</td>\n",
       "      <td>1</td>\n",
       "    </tr>\n",
       "    <tr>\n",
       "      <th>CULEX RESTUANS</th>\n",
       "      <td>1</td>\n",
       "      <td>1</td>\n",
       "    </tr>\n",
       "    <tr>\n",
       "      <th>T007</th>\n",
       "      <th>CULEX RESTUANS</th>\n",
       "      <td>1</td>\n",
       "      <td>1</td>\n",
       "    </tr>\n",
       "    <tr>\n",
       "      <th rowspan=\"2\" valign=\"top\">T015</th>\n",
       "      <th>CULEX PIPIENS/RESTUANS</th>\n",
       "      <td>1</td>\n",
       "      <td>1</td>\n",
       "    </tr>\n",
       "    <tr>\n",
       "      <th>CULEX RESTUANS</th>\n",
       "      <td>1</td>\n",
       "      <td>4</td>\n",
       "    </tr>\n",
       "    <tr>\n",
       "      <th>...</th>\n",
       "      <th>...</th>\n",
       "      <th>...</th>\n",
       "      <td>...</td>\n",
       "      <td>...</td>\n",
       "    </tr>\n",
       "    <tr>\n",
       "      <th rowspan=\"5\" valign=\"top\">2013-09-26</th>\n",
       "      <th>T232</th>\n",
       "      <th>CULEX PIPIENS/RESTUANS</th>\n",
       "      <td>1</td>\n",
       "      <td>1</td>\n",
       "    </tr>\n",
       "    <tr>\n",
       "      <th>T233</th>\n",
       "      <th>CULEX PIPIENS/RESTUANS</th>\n",
       "      <td>1</td>\n",
       "      <td>5</td>\n",
       "    </tr>\n",
       "    <tr>\n",
       "      <th>T235</th>\n",
       "      <th>CULEX PIPIENS/RESTUANS</th>\n",
       "      <td>1</td>\n",
       "      <td>1</td>\n",
       "    </tr>\n",
       "    <tr>\n",
       "      <th rowspan=\"2\" valign=\"top\">T900</th>\n",
       "      <th>CULEX PIPIENS</th>\n",
       "      <td>4</td>\n",
       "      <td>37</td>\n",
       "    </tr>\n",
       "    <tr>\n",
       "      <th>CULEX PIPIENS/RESTUANS</th>\n",
       "      <td>2</td>\n",
       "      <td>43</td>\n",
       "    </tr>\n",
       "  </tbody>\n",
       "</table>\n",
       "<p>8475 rows × 2 columns</p>\n",
       "</div>"
      ],
      "text/plain": [
       "                                        NumRows  NumMosquitos\n",
       "Date       Trap Species                                      \n",
       "2007-05-29 T002 CULEX PIPIENS/RESTUANS        1             1\n",
       "                CULEX RESTUANS                1             1\n",
       "           T007 CULEX RESTUANS                1             1\n",
       "           T015 CULEX PIPIENS/RESTUANS        1             1\n",
       "                CULEX RESTUANS                1             4\n",
       "...                                         ...           ...\n",
       "2013-09-26 T232 CULEX PIPIENS/RESTUANS        1             1\n",
       "           T233 CULEX PIPIENS/RESTUANS        1             5\n",
       "           T235 CULEX PIPIENS/RESTUANS        1             1\n",
       "           T900 CULEX PIPIENS                 4            37\n",
       "                CULEX PIPIENS/RESTUANS        2            43\n",
       "\n",
       "[8475 rows x 2 columns]"
      ]
     },
     "execution_count": 7,
     "metadata": {},
     "output_type": "execute_result"
    }
   ],
   "source": [
    "multi_train = data['train'].groupby(['Date', 'Trap', 'Species']).agg(\n",
    "    NumRows=('NumMosquitos', 'count'), \n",
    "    NumMosquitos=('NumMosquitos', 'sum')\n",
    ")\n",
    "multi_train"
   ]
  },
  {
   "cell_type": "code",
   "execution_count": 8,
   "metadata": {},
   "outputs": [
    {
     "data": {
      "text/html": [
       "<div>\n",
       "<style scoped>\n",
       "    .dataframe tbody tr th:only-of-type {\n",
       "        vertical-align: middle;\n",
       "    }\n",
       "\n",
       "    .dataframe tbody tr th {\n",
       "        vertical-align: top;\n",
       "    }\n",
       "\n",
       "    .dataframe thead th {\n",
       "        text-align: right;\n",
       "    }\n",
       "</style>\n",
       "<table border=\"1\" class=\"dataframe\">\n",
       "  <thead>\n",
       "    <tr style=\"text-align: right;\">\n",
       "      <th></th>\n",
       "      <th>NumRows</th>\n",
       "      <th>NumMosquitos</th>\n",
       "    </tr>\n",
       "  </thead>\n",
       "  <tbody>\n",
       "    <tr>\n",
       "      <th>NumRows</th>\n",
       "      <td>1.000000</td>\n",
       "      <td>0.962238</td>\n",
       "    </tr>\n",
       "    <tr>\n",
       "      <th>NumMosquitos</th>\n",
       "      <td>0.962238</td>\n",
       "      <td>1.000000</td>\n",
       "    </tr>\n",
       "  </tbody>\n",
       "</table>\n",
       "</div>"
      ],
      "text/plain": [
       "               NumRows  NumMosquitos\n",
       "NumRows       1.000000      0.962238\n",
       "NumMosquitos  0.962238      1.000000"
      ]
     },
     "execution_count": 8,
     "metadata": {},
     "output_type": "execute_result"
    }
   ],
   "source": [
    "multi_train.corr()"
   ]
  },
  {
   "cell_type": "code",
   "execution_count": 9,
   "metadata": {},
   "outputs": [
    {
     "data": {
      "text/plain": [
       "(10506, 12)"
      ]
     },
     "execution_count": 9,
     "metadata": {},
     "output_type": "execute_result"
    }
   ],
   "source": [
    "data['train'].shape"
   ]
  },
  {
   "cell_type": "code",
   "execution_count": 10,
   "metadata": {},
   "outputs": [],
   "source": [
    "multirows = data['train'].groupby(['Date', 'Trap', 'Species']).agg(NumRows=('Latitude', 'count')).reset_index()\n",
    "data['train'] = data['train'].merge(multirows, on=['Date', 'Trap', 'Species'], how='left')"
   ]
  },
  {
   "cell_type": "code",
   "execution_count": 12,
   "metadata": {},
   "outputs": [
    {
     "data": {
      "text/plain": [
       "((10506, 13), (8475, 4))"
      ]
     },
     "execution_count": 12,
     "metadata": {},
     "output_type": "execute_result"
    }
   ],
   "source": [
    "data['train'].shape, multirows.shape"
   ]
  },
  {
   "cell_type": "code",
   "execution_count": null,
   "metadata": {},
   "outputs": [],
   "source": []
  }
 ],
 "metadata": {
  "kernelspec": {
   "display_name": ".venv",
   "language": "python",
   "name": "python3"
  },
  "language_info": {
   "codemirror_mode": {
    "name": "ipython",
    "version": 3
   },
   "file_extension": ".py",
   "mimetype": "text/x-python",
   "name": "python",
   "nbconvert_exporter": "python",
   "pygments_lexer": "ipython3",
   "version": "3.10.12"
  }
 },
 "nbformat": 4,
 "nbformat_minor": 2
}
