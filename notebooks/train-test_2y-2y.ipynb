{
 "cells": [
  {
   "cell_type": "code",
   "execution_count": 1,
   "metadata": {},
   "outputs": [],
   "source": [
    "%load_ext autoreload\n",
    "%autoreload 2"
   ]
  },
  {
   "cell_type": "code",
   "execution_count": 2,
   "metadata": {},
   "outputs": [],
   "source": [
    "import numpy as np"
   ]
  },
  {
   "cell_type": "code",
   "execution_count": 3,
   "metadata": {},
   "outputs": [],
   "source": [
    "from src.data import read_raw_data\n",
    "\n",
    "\n",
    "data = read_raw_data()"
   ]
  },
  {
   "cell_type": "code",
   "execution_count": 4,
   "metadata": {},
   "outputs": [],
   "source": [
    "from src.data import clean_weather\n",
    "\n",
    "\n",
    "data['weather'] = clean_weather(data['weather'])"
   ]
  },
  {
   "cell_type": "code",
   "execution_count": 5,
   "metadata": {},
   "outputs": [],
   "source": [
    "from src.data import remove_address, split_date\n",
    "\n",
    "data['train'] = split_date(data['train'])\n",
    "data['train'] = remove_address(data['train'])\n",
    "data['test'] = data['train'][data['train']['Year'].isin([2013])]\n",
    "data['train'] = data['train'][data['train']['Year'].isin([2009, 2011])]"
   ]
  },
  {
   "cell_type": "code",
   "execution_count": 6,
   "metadata": {},
   "outputs": [
    {
     "data": {
      "text/plain": [
       "((4303, 12), (2392, 12))"
      ]
     },
     "execution_count": 6,
     "metadata": {},
     "output_type": "execute_result"
    }
   ],
   "source": [
    "data['train'].shape, data['test'].shape"
   ]
  },
  {
   "cell_type": "code",
   "execution_count": 7,
   "metadata": {},
   "outputs": [
    {
     "data": {
      "text/plain": [
       "(np.float64(0.017662096211945155), np.float64(0.09991638795986622))"
      ]
     },
     "execution_count": 7,
     "metadata": {},
     "output_type": "execute_result"
    }
   ],
   "source": [
    "data['train']['WnvPresent'].mean(), data['test']['WnvPresent'].mean()"
   ]
  },
  {
   "cell_type": "code",
   "execution_count": 8,
   "metadata": {},
   "outputs": [],
   "source": [
    "from src.data import MonthSpeciesTrapTransformer\n",
    "\n",
    "transformer = MonthSpeciesTrapTransformer()\n",
    "\n",
    "data['train'] = transformer.fit_transform(data['train'])\n",
    "data['test'] = transformer.transform(data['test'])"
   ]
  },
  {
   "cell_type": "code",
   "execution_count": 9,
   "metadata": {},
   "outputs": [],
   "source": [
    "from sklearn.preprocessing import OneHotEncoder\n",
    "import pandas as pd\n",
    "\n",
    "\n",
    "species_oh_encoder = OneHotEncoder(sparse_output=False)\n",
    "encoded_train = species_oh_encoder.fit_transform(data['train']['Species'].to_frame())\n",
    "species_train = pd.DataFrame(\n",
    "    encoded_train,\n",
    "    columns=species_oh_encoder.get_feature_names_out()\n",
    ")\n",
    "data['train'] = pd.concat(\n",
    "    [\n",
    "        data['train'].reset_index(drop=True).drop('Species', axis=1),\n",
    "        species_train\n",
    "    ], \n",
    "    axis=1\n",
    ")\n",
    "\n",
    "encoded_test = species_oh_encoder.transform(data['test']['Species'].to_frame())\n",
    "species_test = pd.DataFrame(\n",
    "    encoded_test,\n",
    "    columns=species_oh_encoder.get_feature_names_out()\n",
    ")\n",
    "data['test'] = pd.concat(\n",
    "    [\n",
    "        data['test'].reset_index(drop=True).drop('Species', axis=1),\n",
    "        species_test\n",
    "    ],\n",
    "    axis=1\n",
    ")"
   ]
  },
  {
   "cell_type": "code",
   "execution_count": 10,
   "metadata": {},
   "outputs": [],
   "source": [
    "cols = ['Date', 'Latitude', 'Longitude', 'Dayofyear',\n",
    "       'Species_CULEX PIPIENS', 'Species_CULEX PIPIENS/RESTUANS',\n",
    "       'Species_CULEX RESTUANS', 'WnvPresent']\n",
    "data['train'] = data['train'][cols]\n",
    "data['test'] = data['test'][cols]"
   ]
  },
  {
   "cell_type": "code",
   "execution_count": 11,
   "metadata": {},
   "outputs": [],
   "source": [
    "from src.features import aggregate_columns_with_lag\n",
    "\n",
    "\n",
    "agg_df = aggregate_columns_with_lag(data['weather'], lags=[1,8,15], windows=[7], agg_func='mean')\n",
    "data['weather'] = pd.concat(\n",
    "    [data['weather'], agg_df],\n",
    "    axis=1\n",
    ").reset_index()"
   ]
  },
  {
   "cell_type": "code",
   "execution_count": 12,
   "metadata": {},
   "outputs": [],
   "source": [
    "data['train'] = data['train'].merge(data['weather'].reset_index(), on='Date')\n",
    "data['test'] = data['test'].merge(data['weather'].reset_index(), on='Date')\n",
    "data['train'].drop('Date', axis=1, inplace=True)\n",
    "data['test'].drop('Date', axis=1, inplace=True)"
   ]
  },
  {
   "cell_type": "code",
   "execution_count": 13,
   "metadata": {},
   "outputs": [
    {
     "name": "stdout",
     "output_type": "stream",
     "text": [
      "0.02445302445302445 0.12236503856041131\n"
     ]
    }
   ],
   "source": [
    "X_train = data['train'].copy()\n",
    "y_train = X_train.pop('WnvPresent')\n",
    "\n",
    "# data['test'].dropna(inplace=True)\n",
    "X_test = data['test'].copy()\n",
    "y_test = X_test.pop('WnvPresent')\n",
    "\n",
    "print(y_train.mean(), y_test.mean())"
   ]
  },
  {
   "cell_type": "code",
   "execution_count": 14,
   "metadata": {},
   "outputs": [],
   "source": [
    "# from sklearn.pipeline import Pipeline\n",
    "from imblearn.pipeline import Pipeline\n",
    "from imblearn.under_sampling import TomekLinks, EditedNearestNeighbours, RandomUnderSampler, NeighbourhoodCleaningRule\n",
    "from imblearn.over_sampling import SMOTE, ADASYN\n",
    "\n",
    "from sklearn.preprocessing import StandardScaler\n",
    "from lightgbm import LGBMClassifier\n",
    "from xgboost import XGBClassifier\n",
    "from sklearn.linear_model import LogisticRegression\n",
    "from sklearn.ensemble import RandomForestClassifier, BaggingClassifier\n",
    "from sklearn.svm import SVC\n",
    "from sklearn.model_selection import cross_validate, RepeatedStratifiedKFold\n",
    "\n",
    "from src.evaluate import evaluate\n",
    "\n",
    "\n",
    "classifiers = {\n",
    "    'lr': LogisticRegression(),\n",
    "    # 'svc': SVC(probability=True),\n",
    "    # 'rand_forest': RandomForestClassifier(),\n",
    "    'lgbm_unb': LGBMClassifier(is_unbalance=True, colsample_bytree=0.6, verbose=-1),\n",
    "    'lgbm': LGBMClassifier(is_unbalance=False),\n",
    "    # 'xgb': XGBClassifier(),\n",
    "    'bag_lr': BaggingClassifier(LogisticRegression(), n_estimators=10, max_samples=0.8, max_features=0.6)\n",
    "}\n",
    "\n",
    "def run_one_clf(clf):\n",
    "\n",
    "    steps = [\n",
    "        ('scaler', StandardScaler()),\n",
    "        # ('smote', SMOTE(sampling_strategy=0.2)),\n",
    "        # ('adasyn', ADASYN(sampling_strategy=0.2)),\n",
    "        # ('tomek', TomekLinks()),\n",
    "        # ('enn', EditedNearestNeighbours()),\n",
    "        ('clf', clf)\n",
    "    ]\n",
    "\n",
    "    pipeline = Pipeline(steps=steps)\n",
    "    cv = RepeatedStratifiedKFold(n_splits=5, n_repeats=3)\n",
    "\n",
    "    cv_results = cross_validate(pipeline, X_train, y_train, scoring='roc_auc', cv=cv)\n",
    "\n",
    "    cv_score = cv_results['test_score'].mean().round(4)\n",
    "    \n",
    "    pipeline.fit(X_train, y_train)\n",
    "    \n",
    "    return cv_score, pipeline"
   ]
  },
  {
   "cell_type": "code",
   "execution_count": 15,
   "metadata": {},
   "outputs": [
    {
     "name": "stdout",
     "output_type": "stream",
     "text": [
      "0.7786\n"
     ]
    }
   ],
   "source": [
    "cv_score, pipeline = run_one_clf(classifiers['bag_lr'])\n",
    "print(cv_score)"
   ]
  },
  {
   "cell_type": "code",
   "execution_count": 16,
   "metadata": {},
   "outputs": [
    {
     "data": {
      "text/plain": [
       "np.float64(0.5671)"
      ]
     },
     "execution_count": 16,
     "metadata": {},
     "output_type": "execute_result"
    }
   ],
   "source": [
    "from sklearn.metrics import roc_auc_score\n",
    "\n",
    "\n",
    "y_pred = pipeline.predict_proba(X_test)[:, 1]\n",
    "\n",
    "roc_auc_score(y_test, y_pred).round(4)"
   ]
  }
 ],
 "metadata": {
  "kernelspec": {
   "display_name": ".venv",
   "language": "python",
   "name": "python3"
  },
  "language_info": {
   "codemirror_mode": {
    "name": "ipython",
    "version": 3
   },
   "file_extension": ".py",
   "mimetype": "text/x-python",
   "name": "python",
   "nbconvert_exporter": "python",
   "pygments_lexer": "ipython3",
   "version": "3.10.12"
  }
 },
 "nbformat": 4,
 "nbformat_minor": 2
}
