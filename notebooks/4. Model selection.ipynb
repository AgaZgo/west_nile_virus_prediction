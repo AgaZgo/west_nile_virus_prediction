{
 "cells": [
  {
   "cell_type": "code",
   "execution_count": 8,
   "metadata": {},
   "outputs": [],
   "source": [
    "%load_ext autoreload\n",
    "%autoreload 2"
   ]
  },
  {
   "cell_type": "code",
   "execution_count": 17,
   "metadata": {},
   "outputs": [],
   "source": [
    "import pandas as pd\n",
    "from xgboost import XGBClassifier\n",
    "from sklearn.model_selection import RepeatedStratifiedKFold, GridSearchCV\n",
    "\n",
    "from src.paths import PREPROCESSED_DATA_DIR"
   ]
  },
  {
   "cell_type": "code",
   "execution_count": 10,
   "metadata": {},
   "outputs": [],
   "source": [
    "# read training data\n",
    "data_train = pd.read_pickle(PREPROCESSED_DATA_DIR / 'data_train.pkl')"
   ]
  },
  {
   "cell_type": "code",
   "execution_count": 12,
   "metadata": {},
   "outputs": [],
   "source": [
    "labels = data_train.pop('WnvPresent')"
   ]
  },
  {
   "cell_type": "code",
   "execution_count": 18,
   "metadata": {},
   "outputs": [
    {
     "name": "stdout",
     "output_type": "stream",
     "text": [
      "Fitting 15 folds for each of 144 candidates, totalling 2160 fits\n"
     ]
    }
   ],
   "source": [
    "param_grid = {\n",
    "    'n_estimators': [50, 60, 100],\n",
    "    'max_depth': [5, 6],\n",
    "    'reg_alpha': [0.1, 0.5, 1],\n",
    "    'reg_lambda': [1, 10],\n",
    "    'gamma': [0, 0.5],\n",
    "    'colsample_bytree': [0.6],\n",
    "    'min_child_weight': [1, 3]\n",
    "}\n",
    "\n",
    "xgb = XGBClassifier()   #scale_pos_weight=20\n",
    "cv = RepeatedStratifiedKFold(n_splits=5, n_repeats=3)\n",
    "model = GridSearchCV(\n",
    "    param_grid=param_grid,\n",
    "    estimator=xgb,\n",
    "    scoring='roc_auc',\n",
    "    cv=cv,\n",
    "    n_jobs=-1,\n",
    "    verbose=1\n",
    ")\n",
    "\n",
    "model.fit(data_train, labels)\n",
    "best_model = model.best_estimator_"
   ]
  },
  {
   "cell_type": "code",
   "execution_count": 19,
   "metadata": {},
   "outputs": [
    {
     "name": "stdout",
     "output_type": "stream",
     "text": [
      "Best_model params: {'colsample_bytree': 0.6, 'gamma': 0.5, 'max_depth': 5, 'min_child_weight': 1, 'n_estimators': 50, 'reg_alpha': 0.5, 'reg_lambda': 10}\n",
      "Best score: 0.8038\n"
     ]
    }
   ],
   "source": [
    "print(f'Best_model params: {model.best_params_}')\n",
    "print(f'Best score: {round(model.best_score_, 4)}')"
   ]
  },
  {
   "cell_type": "code",
   "execution_count": null,
   "metadata": {},
   "outputs": [],
   "source": [
    "feature_important = best_model.get_booster().get_score(importance_type='weight')\n",
    "keys = list(feature_important.keys())\n",
    "values = list(feature_important.values())\n",
    "\n",
    "data = pd.DataFrame(data=values, index=keys, columns=[\"score\"]).sort_values(\"score\")\n",
    "data.plot(kind='barh', figsize = (20,10));"
   ]
  }
 ],
 "metadata": {
  "kernelspec": {
   "display_name": ".venv",
   "language": "python",
   "name": "python3"
  },
  "language_info": {
   "codemirror_mode": {
    "name": "ipython",
    "version": 3
   },
   "file_extension": ".py",
   "mimetype": "text/x-python",
   "name": "python",
   "nbconvert_exporter": "python",
   "pygments_lexer": "ipython3",
   "version": "3.10.12"
  }
 },
 "nbformat": 4,
 "nbformat_minor": 2
}
