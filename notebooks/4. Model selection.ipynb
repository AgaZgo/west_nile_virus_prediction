{
 "cells": [
  {
   "cell_type": "code",
   "execution_count": 1,
   "metadata": {},
   "outputs": [],
   "source": [
    "%load_ext autoreload\n",
    "%autoreload 2"
   ]
  },
  {
   "cell_type": "code",
   "execution_count": 2,
   "metadata": {},
   "outputs": [],
   "source": [
    "import pandas as pd\n",
    "from xgboost import XGBClassifier\n",
    "from sklearn.model_selection import RepeatedStratifiedKFold, GridSearchCV\n",
    "\n",
    "from src.paths import PREPROCESSED_DATA_DIR, MODEL_DIR\n",
    "\n",
    "import pickle"
   ]
  },
  {
   "cell_type": "code",
   "execution_count": 80,
   "metadata": {},
   "outputs": [
    {
     "data": {
      "text/plain": [
       "Year\n",
       "2007    0.099951\n",
       "2009    0.015228\n",
       "2011    0.042925\n",
       "2013    0.148417\n",
       "Name: WnvPresent, dtype: float64"
      ]
     },
     "metadata": {},
     "output_type": "display_data"
    }
   ],
   "source": [
    "# read training data\n",
    "data_train = pd.read_pickle(PREPROCESSED_DATA_DIR / 'data_train.pkl')\n",
    "display(\n",
    "    data_train.groupby('Year')['WnvPresent'].agg(['count','mean'])\n",
    ")\n",
    "labels = data_train.pop('WnvPresent')"
   ]
  },
  {
   "cell_type": "code",
   "execution_count": 73,
   "metadata": {},
   "outputs": [],
   "source": [
    "from sklearn.model_selection._split import _UnsupportedGroupCVMixin, _BaseKFold\n",
    "\n",
    "\n",
    "class MyKFold(_UnsupportedGroupCVMixin, _BaseKFold):\n",
    "    \"\"\"K-Fold cross-validator.\n",
    "\n",
    "    Provides train/test indices to split data in train/test sets. Split\n",
    "    dataset into k consecutive folds (without shuffling by default).\n",
    "\n",
    "    Each fold is then used once as a validation while the k - 1 remaining\n",
    "    folds form the training set.\n",
    "\n",
    "    Read more in the :ref:`User Guide <k_fold>`.\n",
    "\n",
    "    For visualisation of cross-validation behaviour and\n",
    "    comparison between common scikit-learn split methods\n",
    "    refer to :ref:`sphx_glr_auto_examples_model_selection_plot_cv_indices.py`\n",
    "\n",
    "    Parameters\n",
    "    ----------\n",
    "    n_splits : int, default=5\n",
    "        Number of folds. Must be at least 2.\n",
    "\n",
    "        .. versionchanged:: 0.22\n",
    "            ``n_splits`` default value changed from 3 to 5.\n",
    "\n",
    "    shuffle : bool, default=False\n",
    "        Whether to shuffle the data before splitting into batches.\n",
    "        Note that the samples within each split will not be shuffled.\n",
    "\n",
    "    random_state : int, RandomState instance or None, default=None\n",
    "        When `shuffle` is True, `random_state` affects the ordering of the\n",
    "        indices, which controls the randomness of each fold. Otherwise, this\n",
    "        parameter has no effect.\n",
    "        Pass an int for reproducible output across multiple function calls.\n",
    "        See :term:`Glossary <random_state>`.\n",
    "    \"\"\"\n",
    "\n",
    "    def __init__(self, split_labels=None, n_splits=4, *, shuffle=False, random_state=None):\n",
    "        super().__init__(n_splits=n_splits, shuffle=shuffle, random_state=random_state)\n",
    "        self.split_labels = split_labels\n",
    "\n",
    "    def _iter_test_indices(self, X, y=None, groups=None):\n",
    "        years = self.split_labels\n",
    "        for year in years.unique():\n",
    "            yield years[years==year].index\n"
   ]
  },
  {
   "cell_type": "code",
   "execution_count": 78,
   "metadata": {},
   "outputs": [
    {
     "data": {
      "text/plain": [
       "Year\n",
       "2007    2061\n",
       "2013    1516\n",
       "2011    1258\n",
       "2009    1182\n",
       "Name: count, dtype: int64"
      ]
     },
     "execution_count": 78,
     "metadata": {},
     "output_type": "execute_result"
    }
   ],
   "source": [
    "data_train.Year.value_counts()"
   ]
  },
  {
   "cell_type": "code",
   "execution_count": 74,
   "metadata": {},
   "outputs": [
    {
     "data": {
      "text/plain": [
       "{'fit_time': array([0.45503283, 0.11404991, 0.146209  , 0.15220261]),\n",
       " 'score_time': array([0.02052641, 0.01153541, 0.01579809, 0.01486421]),\n",
       " 'test_score': array([0.63716275, 0.54734632, 0.67381106, 0.67201136])}"
      ]
     },
     "execution_count": 74,
     "metadata": {},
     "output_type": "execute_result"
    }
   ],
   "source": [
    "from xgboost import XGBClassifier\n",
    "from sklearn.model_selection import cross_validate\n",
    "\n",
    "cv = MyKFold(split_labels=data_train['Year'])\n",
    "clf = XGBClassifier()\n",
    "res = cross_validate(clf, data_train.drop('Year', axis=1), labels, scoring='roc_auc', cv=cv)\n",
    "res\n"
   ]
  },
  {
   "cell_type": "code",
   "execution_count": 97,
   "metadata": {},
   "outputs": [
    {
     "name": "stderr",
     "output_type": "stream",
     "text": [
      "[I 2024-09-09 13:33:40,483] A new study created in memory with name: no-name-604c1fa0-e53f-4d5d-909d-117c9669d3bf\n"
     ]
    },
    {
     "name": "stderr",
     "output_type": "stream",
     "text": [
      "[I 2024-09-09 13:33:42,468] Trial 0 finished with value: 0.7835031165523814 and parameters: {'model': 'lgbm', 'max_depth': 6, 'min_child_weight': 3, 'subsample': 0.9051046782239474, 'learning_rate': 0.0003636395575142002, 'reg_lambda': 3.1101715747100034}. Best is trial 0 with value: 0.7835031165523814.\n",
      "[I 2024-09-09 13:33:44,165] Trial 1 finished with value: 0.791265675185625 and parameters: {'model': 'lgbm', 'max_depth': 7, 'min_child_weight': 3, 'subsample': 0.6514220999104288, 'learning_rate': 0.001149003959133305, 'reg_lambda': 3.707680968860433}. Best is trial 1 with value: 0.791265675185625.\n",
      "[I 2024-09-09 13:33:47,757] Trial 2 finished with value: 0.7487894939015172 and parameters: {'model': 'xgb', 'max_depth': 10, 'min_child_weight': 5, 'subsample': 0.8466829403851388, 'eta': 0.7700033913654947, 'lambda': 4.177313256857171}. Best is trial 1 with value: 0.791265675185625.\n",
      "[I 2024-09-09 13:33:50,384] Trial 3 finished with value: 0.7875980418460669 and parameters: {'model': 'xgb', 'max_depth': 6, 'min_child_weight': 1, 'subsample': 0.726499662583193, 'eta': 0.1533636379791006, 'lambda': 8.885197268945133}. Best is trial 1 with value: 0.791265675185625.\n",
      "[I 2024-09-09 13:33:52,151] Trial 4 finished with value: 0.7812274377804787 and parameters: {'model': 'lgbm', 'max_depth': 8, 'min_child_weight': 5, 'subsample': 0.797213768221104, 'learning_rate': 0.3155228239693401, 'reg_lambda': 6.725007642657049}. Best is trial 1 with value: 0.791265675185625.\n",
      "[I 2024-09-09 13:33:53,108] Trial 5 finished with value: 0.7981014013482408 and parameters: {'model': 'lgbm', 'max_depth': 2, 'min_child_weight': 1, 'subsample': 0.5325447442541872, 'learning_rate': 0.030111230638009585, 'reg_lambda': 1.516265593786617}. Best is trial 5 with value: 0.7981014013482408.\n",
      "[I 2024-09-09 13:33:55,881] Trial 6 finished with value: 0.8069856037680847 and parameters: {'model': 'xgb', 'max_depth': 6, 'min_child_weight': 1, 'subsample': 0.7318062902143282, 'eta': 0.014001863202374345, 'lambda': 4.089180578430001}. Best is trial 6 with value: 0.8069856037680847.\n",
      "[I 2024-09-09 13:33:59,729] Trial 7 finished with value: 0.802245170791141 and parameters: {'model': 'xgb', 'max_depth': 7, 'min_child_weight': 3, 'subsample': 0.6054867004457856, 'eta': 0.0029814280500788768, 'lambda': 6.367725856469232}. Best is trial 6 with value: 0.8069856037680847.\n",
      "[I 2024-09-09 13:34:01,035] Trial 8 finished with value: 0.5209450269170114 and parameters: {'model': 'xgb', 'max_depth': 7, 'min_child_weight': 1, 'subsample': 0.5832447785148138, 'eta': 3.9146825574766937, 'lambda': 4.427556259401021}. Best is trial 6 with value: 0.8069856037680847.\n",
      "[I 2024-09-09 13:34:02,783] Trial 9 finished with value: 0.8026981753905267 and parameters: {'model': 'xgb', 'max_depth': 5, 'min_child_weight': 5, 'subsample': 0.5358930657196299, 'eta': 0.00869134386860294, 'lambda': 0.6269312174689934}. Best is trial 6 with value: 0.8069856037680847.\n",
      "[I 2024-09-09 13:34:04,330] Trial 10 finished with value: 0.7371658006648839 and parameters: {'model': 'xgb', 'max_depth': 3, 'min_child_weight': 1, 'subsample': 0.9882380014513898, 'eta': 0.00010584792889899206, 'lambda': 0.5395122877948415}. Best is trial 6 with value: 0.8069856037680847.\n",
      "[I 2024-09-09 13:34:05,878] Trial 11 finished with value: 0.7938214240717765 and parameters: {'model': 'xgb', 'max_depth': 4, 'min_child_weight': 5, 'subsample': 0.6845750278305005, 'eta': 0.0046160914568931745, 'lambda': 0.11483654280776134}. Best is trial 6 with value: 0.8069856037680847.\n",
      "[I 2024-09-09 13:34:07,508] Trial 12 finished with value: 0.7991283869887236 and parameters: {'model': 'xgb', 'max_depth': 4, 'min_child_weight': 5, 'subsample': 0.517609971385261, 'eta': 0.012653168265061531, 'lambda': 2.4743248518634813}. Best is trial 6 with value: 0.8069856037680847.\n",
      "[I 2024-09-09 13:34:09,388] Trial 13 finished with value: 0.7931516835002215 and parameters: {'model': 'xgb', 'max_depth': 5, 'min_child_weight': 1, 'subsample': 0.7606997963855917, 'eta': 0.0005676723037253343, 'lambda': 2.258493688051086}. Best is trial 6 with value: 0.8069856037680847.\n",
      "[I 2024-09-09 13:34:12,032] Trial 14 finished with value: 0.7919416060759746 and parameters: {'model': 'xgb', 'max_depth': 9, 'min_child_weight': 5, 'subsample': 0.6438256865757584, 'eta': 0.06746202066742737, 'lambda': 6.973003763953637}. Best is trial 6 with value: 0.8069856037680847.\n",
      "[I 2024-09-09 13:34:14,590] Trial 15 finished with value: 0.8064250337358314 and parameters: {'model': 'xgb', 'max_depth': 5, 'min_child_weight': 1, 'subsample': 0.8834162302380069, 'eta': 0.021489377435424745, 'lambda': 2.4237624017621595}. Best is trial 6 with value: 0.8069856037680847.\n",
      "[I 2024-09-09 13:34:16,533] Trial 16 finished with value: 0.7923946368117813 and parameters: {'model': 'xgb', 'max_depth': 5, 'min_child_weight': 1, 'subsample': 0.9107388368933605, 'eta': 0.1537168412833171, 'lambda': 2.8858287978783292}. Best is trial 6 with value: 0.8069856037680847.\n",
      "[I 2024-09-09 13:34:18,069] Trial 17 finished with value: 0.8029344143841567 and parameters: {'model': 'xgb', 'max_depth': 3, 'min_child_weight': 1, 'subsample': 0.8397663419144512, 'eta': 0.03685939178594148, 'lambda': 6.019300642845832}. Best is trial 6 with value: 0.8069856037680847.\n",
      "[I 2024-09-09 13:34:18,493] Trial 18 finished with value: 0.5070899386078652 and parameters: {'model': 'lgbm', 'max_depth': 8, 'min_child_weight': 1, 'subsample': 0.9956438427264764, 'learning_rate': 9.786788841425539, 'reg_lambda': 8.417155246579098}. Best is trial 6 with value: 0.8069856037680847.\n",
      "[I 2024-09-09 13:34:19,696] Trial 19 finished with value: 0.7796277701762406 and parameters: {'model': 'xgb', 'max_depth': 4, 'min_child_weight': 1, 'subsample': 0.8997027289998764, 'eta': 0.0011090354063840037, 'lambda': 3.5618075998908485}. Best is trial 6 with value: 0.8069856037680847.\n",
      "[I 2024-09-09 13:34:22,388] Trial 20 finished with value: 0.7582620562171559 and parameters: {'model': 'xgb', 'max_depth': 6, 'min_child_weight': 1, 'subsample': 0.7281890108005311, 'eta': 0.6652187340519994, 'lambda': 1.7350725316049045}. Best is trial 6 with value: 0.8069856037680847.\n",
      "[I 2024-09-09 13:34:23,572] Trial 21 finished with value: 0.7942395119219632 and parameters: {'model': 'xgb', 'max_depth': 2, 'min_child_weight': 1, 'subsample': 0.8232410325266701, 'eta': 0.028044301512676405, 'lambda': 5.849872977473467}. Best is trial 6 with value: 0.8069856037680847.\n",
      "[I 2024-09-09 13:34:25,026] Trial 22 finished with value: 0.7997036741232145 and parameters: {'model': 'xgb', 'max_depth': 3, 'min_child_weight': 1, 'subsample': 0.8569901222134834, 'eta': 0.026859847666865715, 'lambda': 7.876884105580842}. Best is trial 6 with value: 0.8069856037680847.\n",
      "[I 2024-09-09 13:34:26,532] Trial 23 finished with value: 0.801856225338504 and parameters: {'model': 'xgb', 'max_depth': 3, 'min_child_weight': 1, 'subsample': 0.7766837175509285, 'eta': 0.06264832092687257, 'lambda': 5.2143312595397635}. Best is trial 6 with value: 0.8069856037680847.\n",
      "[I 2024-09-09 13:34:28,250] Trial 24 finished with value: 0.7875089983984124 and parameters: {'model': 'xgb', 'max_depth': 5, 'min_child_weight': 1, 'subsample': 0.9570204238242369, 'eta': 0.2951054078451689, 'lambda': 9.990881449807665}. Best is trial 6 with value: 0.8069856037680847.\n",
      "[I 2024-09-09 13:34:29,968] Trial 25 finished with value: 0.7836814321916071 and parameters: {'model': 'xgb', 'max_depth': 4, 'min_child_weight': 3, 'subsample': 0.8172825037509014, 'eta': 0.0021375029832276238, 'lambda': 5.243871406958406}. Best is trial 6 with value: 0.8069856037680847.\n",
      "[I 2024-09-09 13:34:30,512] Trial 26 finished with value: 0.44303112602865585 and parameters: {'model': 'lgbm', 'max_depth': 3, 'min_child_weight': 1, 'subsample': 0.8709677160757077, 'learning_rate': 7.656086568509668, 'reg_lambda': 9.203447729263946}. Best is trial 6 with value: 0.8069856037680847.\n",
      "[I 2024-09-09 13:34:32,666] Trial 27 finished with value: 0.8001688965628128 and parameters: {'model': 'xgb', 'max_depth': 6, 'min_child_weight': 1, 'subsample': 0.7001073457568436, 'eta': 0.013076917757131202, 'lambda': 3.5557011897845645}. Best is trial 6 with value: 0.8069856037680847.\n",
      "[I 2024-09-09 13:34:34,258] Trial 28 finished with value: 0.7928740326367714 and parameters: {'model': 'xgb', 'max_depth': 2, 'min_child_weight': 1, 'subsample': 0.9421598769062589, 'eta': 0.03506679890986228, 'lambda': 7.422397226935089}. Best is trial 6 with value: 0.8069856037680847.\n",
      "[I 2024-09-09 13:34:35,490] Trial 29 finished with value: 0.8044596995688696 and parameters: {'model': 'lgbm', 'max_depth': 5, 'min_child_weight': 3, 'subsample': 0.9129183472184141, 'learning_rate': 0.019637525976828017, 'reg_lambda': 0.4525660909646625}. Best is trial 6 with value: 0.8069856037680847.\n",
      "[I 2024-09-09 13:34:37,507] Trial 30 finished with value: 0.8003699049584038 and parameters: {'model': 'lgbm', 'max_depth': 6, 'min_child_weight': 3, 'subsample': 0.8892535561970614, 'learning_rate': 0.011538895164850125, 'reg_lambda': 0.02698315886577074}. Best is trial 6 with value: 0.8069856037680847.\n",
      "[I 2024-09-09 13:34:38,716] Trial 31 finished with value: 0.7906319529811158 and parameters: {'model': 'lgbm', 'max_depth': 5, 'min_child_weight': 3, 'subsample': 0.9395472953724263, 'learning_rate': 0.3403187624883972, 'reg_lambda': 5.856901122336557}. Best is trial 6 with value: 0.8069856037680847.\n",
      "[I 2024-09-09 13:34:40,470] Trial 32 finished with value: 0.8010017115256007 and parameters: {'model': 'lgbm', 'max_depth': 7, 'min_child_weight': 3, 'subsample': 0.8254890566815071, 'learning_rate': 0.005137935705459836, 'reg_lambda': 0.7219817814790437}. Best is trial 6 with value: 0.8069856037680847.\n",
      "[I 2024-09-09 13:34:41,383] Trial 33 finished with value: 0.7934012513519 and parameters: {'model': 'lgbm', 'max_depth': 4, 'min_child_weight': 3, 'subsample': 0.783580589405144, 'learning_rate': 0.1806926443625959, 'reg_lambda': 2.8782740759386343}. Best is trial 6 with value: 0.8069856037680847.\n",
      "[I 2024-09-09 13:34:42,976] Trial 34 finished with value: 0.7976771825115965 and parameters: {'model': 'lgbm', 'max_depth': 8, 'min_child_weight': 3, 'subsample': 0.91315829591315, 'learning_rate': 0.0023037587021239756, 'reg_lambda': 4.469782339078672}. Best is trial 6 with value: 0.8069856037680847.\n",
      "[I 2024-09-09 13:34:44,152] Trial 35 finished with value: 0.7673590761226339 and parameters: {'model': 'lgbm', 'max_depth': 5, 'min_child_weight': 3, 'subsample': 0.8558408279020663, 'learning_rate': 0.00010397291098493634, 'reg_lambda': 1.934436833139054}. Best is trial 6 with value: 0.8069856037680847.\n",
      "[I 2024-09-09 13:34:45,644] Trial 36 finished with value: 0.7974869903804449 and parameters: {'model': 'lgbm', 'max_depth': 7, 'min_child_weight': 1, 'subsample': 0.8785966461825121, 'learning_rate': 0.06370974694536423, 'reg_lambda': 7.266322111144246}. Best is trial 6 with value: 0.8069856037680847.\n",
      "[I 2024-09-09 13:34:49,712] Trial 37 finished with value: 0.7927816108951115 and parameters: {'model': 'xgb', 'max_depth': 10, 'min_child_weight': 3, 'subsample': 0.7413865252524303, 'eta': 0.00046912631046068374, 'lambda': 1.6082855441196076}. Best is trial 6 with value: 0.8069856037680847.\n",
      "[I 2024-09-09 13:34:51,029] Trial 38 finished with value: 0.5305761908855636 and parameters: {'model': 'xgb', 'max_depth': 6, 'min_child_weight': 1, 'subsample': 0.8052988278882215, 'eta': 3.1980645831971133, 'lambda': 4.3226165777890255}. Best is trial 6 with value: 0.8069856037680847.\n",
      "[I 2024-09-09 13:34:51,815] Trial 39 finished with value: 0.6599130732060524 and parameters: {'model': 'lgbm', 'max_depth': 6, 'min_child_weight': 1, 'subsample': 0.8357501528540197, 'learning_rate': 1.7770445733951763, 'reg_lambda': 4.848483558785945}. Best is trial 6 with value: 0.8069856037680847.\n"
     ]
    }
   ],
   "source": [
    "import optuna\n",
    "from xgboost import XGBClassifier\n",
    "from lightgbm import LGBMClassifier\n",
    "from sklearn.model_selection import cross_validate\n",
    "\n",
    "from src.config import UNDERSAMPLE\n",
    "\n",
    "\n",
    "def objective(trial):\n",
    "    model = trial.suggest_categorical('model', ['lgbm', 'xgb'])\n",
    "    if model == 'lgbm':\n",
    "        params = {\n",
    "            'max_depth': trial.suggest_int('max_depth', 2, 10),\n",
    "            \"min_child_weight\": trial.suggest_categorical(\n",
    "                'min_child_weight', [1, 3, 5]\n",
    "            ),\n",
    "            \"subsample\": trial.suggest_float('subsample', 0.5, 1.0),\n",
    "            \"learning_rate\": trial.suggest_float(\n",
    "                'learning_rate', 1e-4, 10, log=True\n",
    "            ),\n",
    "            \"reg_lambda\": trial.suggest_float('reg_lambda', 0.01, 10),\n",
    "            \"scale_pos_weight\": 1 if UNDERSAMPLE else 9\n",
    "        }\n",
    "        clf = LGBMClassifier(**params, verbose=-1)\n",
    "    else:\n",
    "        params = {\n",
    "            'max_depth': trial.suggest_int('max_depth', 2, 10),\n",
    "            \"min_child_weight\": trial.suggest_categorical(\n",
    "                'min_child_weight', [1, 3, 5]\n",
    "            ),\n",
    "            \"subsample\": trial.suggest_float('subsample', 0.5, 1.0),\n",
    "            \"eta\": trial.suggest_float('eta', 1e-4, 10, log=True),\n",
    "            \"lambda\": trial.suggest_float('lambda', 0.01, 10),\n",
    "            \"scale_pos_weight\": 1 if UNDERSAMPLE else 9\n",
    "        }\n",
    "        clf = XGBClassifier(**params)\n",
    "    cv = RepeatedStratifiedKFold(n_splits=5, n_repeats=3)\n",
    "    res = cross_validate(clf, data_train, labels, scoring='roc_auc', cv=cv)\n",
    "    return res['test_score'].mean()\n",
    "\n",
    "\n",
    "def train_best(best_params, data_train, labels):\n",
    "    model = best_params.pop('model', None)\n",
    "\n",
    "    if model == 'lgbm':\n",
    "        clf = LGBMClassifier(**best_params)\n",
    "    else:\n",
    "        clf = XGBClassifier(**best_params)\n",
    "\n",
    "    clf.fit(data_train, labels)\n",
    "\n",
    "    return clf\n",
    "\n",
    "\n",
    "study = optuna.create_study(direction='maximize')\n",
    "study.optimize(objective, n_trials=40)"
   ]
  },
  {
   "cell_type": "code",
   "execution_count": 92,
   "metadata": {},
   "outputs": [
    {
     "data": {
      "text/plain": [
       "{'model': 'lgbm',\n",
       " 'max_depth': 5,\n",
       " 'min_child_weight': 3,\n",
       " 'subsample': 0.7806100204107996,\n",
       " 'learning_rate': 0.016513356755168105,\n",
       " 'reg_lambda': 4.438555879997668}"
      ]
     },
     "execution_count": 92,
     "metadata": {},
     "output_type": "execute_result"
    }
   ],
   "source": [
    "study.best_params"
   ]
  },
  {
   "cell_type": "code",
   "execution_count": 93,
   "metadata": {},
   "outputs": [
    {
     "data": {
      "text/plain": [
       "FrozenTrial(number=27, state=TrialState.COMPLETE, values=[0.8082257504743751], datetime_start=datetime.datetime(2024, 9, 9, 13, 24, 1, 190017), datetime_complete=datetime.datetime(2024, 9, 9, 13, 24, 2, 685139), params={'model': 'lgbm', 'max_depth': 5, 'min_child_weight': 3, 'subsample': 0.7806100204107996, 'learning_rate': 0.016513356755168105, 'reg_lambda': 4.438555879997668}, user_attrs={}, system_attrs={}, intermediate_values={}, distributions={'model': CategoricalDistribution(choices=('lgbm', 'xgb')), 'max_depth': IntDistribution(high=10, log=False, low=2, step=1), 'min_child_weight': CategoricalDistribution(choices=(1, 3, 5)), 'subsample': FloatDistribution(high=1.0, log=False, low=0.5, step=None), 'learning_rate': FloatDistribution(high=10.0, log=True, low=0.0001, step=None), 'reg_lambda': FloatDistribution(high=10.0, log=False, low=0.01, step=None)}, trial_id=27, value=None)"
      ]
     },
     "execution_count": 93,
     "metadata": {},
     "output_type": "execute_result"
    }
   ],
   "source": [
    "study.best_trial"
   ]
  },
  {
   "cell_type": "code",
   "execution_count": 94,
   "metadata": {},
   "outputs": [
    {
     "data": {
      "text/plain": [
       "0.8082257504743751"
      ]
     },
     "execution_count": 94,
     "metadata": {},
     "output_type": "execute_result"
    }
   ],
   "source": [
    "study.best_value"
   ]
  },
  {
   "cell_type": "code",
   "execution_count": 95,
   "metadata": {},
   "outputs": [],
   "source": [
    "best_model = train_best(study.best_params, data_train, labels)\n",
    "\n",
    "with open(MODEL_DIR / 'best_model.pkl', 'wb') as f:\n",
    "    pickle.dump(best_model, f)\n"
   ]
  },
  {
   "cell_type": "code",
   "execution_count": 90,
   "metadata": {},
   "outputs": [],
   "source": [
    "\n",
    "        "
   ]
  },
  {
   "cell_type": "code",
   "execution_count": null,
   "metadata": {},
   "outputs": [],
   "source": []
  }
 ],
 "metadata": {
  "kernelspec": {
   "display_name": ".venv",
   "language": "python",
   "name": "python3"
  },
  "language_info": {
   "codemirror_mode": {
    "name": "ipython",
    "version": 3
   },
   "file_extension": ".py",
   "mimetype": "text/x-python",
   "name": "python",
   "nbconvert_exporter": "python",
   "pygments_lexer": "ipython3",
   "version": "3.10.12"
  }
 },
 "nbformat": 4,
 "nbformat_minor": 2
}
